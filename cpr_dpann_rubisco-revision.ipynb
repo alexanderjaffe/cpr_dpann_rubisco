{
 "cells": [
  {
   "cell_type": "markdown",
   "metadata": {},
   "source": [
    "## Lateral gene transfer shapes the distribution of RuBisCO among Candidate Phyla Radiation bacteria and DPANN archaea."
   ]
  },
  {
   "cell_type": "markdown",
   "metadata": {},
   "source": [
    "#### Supporting Material for Jaffe et al., 2018."
   ]
  },
  {
   "cell_type": "markdown",
   "metadata": {},
   "source": [
    "### Table of Contents:"
   ]
  },
  {
   "cell_type": "markdown",
   "metadata": {},
   "source": [
    "<ul>\n",
    "    1.    [Main RuBisCO analysis](#main-rubisco-analysis)<br>\n",
    "    2.    [AMP Pathway analysis](#AMP-pathway-analysis)<br>\n",
    "    3.    [PRK/Calvin Cycle analysis](#PRK/CBB-analysis)\n",
    "</ul>"
   ]
  },
  {
   "cell_type": "markdown",
   "metadata": {},
   "source": [
    "## Load in libraries and settings"
   ]
  },
  {
   "cell_type": "code",
   "execution_count": 1,
   "metadata": {},
   "outputs": [
    {
     "data": {
      "text/html": [
       "<style>.container { width:95% !important; }</style>"
      ],
      "text/plain": [
       "<IPython.core.display.HTML object>"
      ]
     },
     "metadata": {},
     "output_type": "display_data"
    }
   ],
   "source": [
    "import matplotlib, re, os, glob\n",
    "import matplotlib.pyplot as plt\n",
    "import numpy as np\n",
    "import pandas as pd\n",
    "from Bio import SeqIO, SeqUtils\n",
    "from matplotlib_venn import venn3\n",
    "import seaborn as sns\n",
    "import subprocess as sp\n",
    "sns.set('notebook')\n",
    "%matplotlib inline \n",
    "# adjust cell width\n",
    "from IPython.core.display import display, HTML\n",
    "from IPython.display import Image\n",
    "display(HTML(\"<style>.container { width:95% !important; }</style>\"))"
   ]
  },
  {
   "cell_type": "code",
   "execution_count": 2,
   "metadata": {},
   "outputs": [],
   "source": [
    "# MANUALLY SET WORKING DIRECTORY TO GIT REPOSITORY \n",
    "working_directory = \"\""
   ]
  },
  {
   "cell_type": "markdown",
   "metadata": {},
   "source": [
    "# main RuBisCO analysis"
   ]
  },
  {
   "cell_type": "markdown",
   "metadata": {},
   "source": [
    "Here we perform the main phylogenetic analysis of the de-replicated RuBisCO sequences from across environments. <b> N.B. </b> This analysis draws on a number of previously generated files, available on the GitHub page linked to this publication."
   ]
  },
  {
   "cell_type": "markdown",
   "metadata": {},
   "source": [
    "First, we read in sequence headers from the de-replicated RuBisCO sequences. These headers contain the information needed for downstream analyses."
   ]
  },
  {
   "cell_type": "code",
   "execution_count": 3,
   "metadata": {},
   "outputs": [],
   "source": [
    "# read in headers\n",
    "with open(os.path.join(working_directory, \"data/drep99.headers\")) as infile:\n",
    "    headers = infile.readlines()\n",
    "# remove duplicates\n",
    "uniq = list(set(headers))"
   ]
  },
  {
   "cell_type": "code",
   "execution_count": 4,
   "metadata": {},
   "outputs": [
    {
     "name": "stdout",
     "output_type": "stream",
     "text": [
      "622 sequences found.\n"
     ]
    }
   ],
   "source": [
    "# how many unique sequences are there?\n",
    "print(str(len(uniq)) + \" sequences found.\")"
   ]
  },
  {
   "cell_type": "markdown",
   "metadata": {},
   "source": [
    "### read and process sequence headers"
   ]
  },
  {
   "cell_type": "markdown",
   "metadata": {},
   "source": [
    "Sequences from external databases (NCBI, IMG, etc) have special metadata that we need to read in for accurate taxonomic assignment."
   ]
  },
  {
   "cell_type": "code",
   "execution_count": 5,
   "metadata": {},
   "outputs": [],
   "source": [
    "# IMG\n",
    "with open(os.path.join(working_directory + \"/data/scaffold_info/img_scaffold.info\")) as img_in:\n",
    "    lines = img_in.readlines()\n",
    "# make into dictionary\n",
    "img = {line.split(\"\\t\")[0]: {\"tax\": line.split(\"\\t\")[1], \"bin\":line.split(\"\\t\")[2].strip(\"\\n\")} for line in lines}\n",
    "\n",
    "# NCBI\n",
    "with open(os.path.join(working_directory + \"/data/scaffold_info/ncbi_scaffold.info\"))  as ncbi_in:\n",
    "    lines2 = ncbi_in.readlines()\n",
    "# make into dictionary\n",
    "ncbi = {line.split(\"\\t\")[0]: {\"tax\":line.split(\"\\t\")[2].strip(\"\\n\"), \"bin\":line.split(\"\\t\")[2].strip(\"\\n\")} for line in lines2}\n",
    "\n",
    "## TARA\n",
    "with open(os.path.join(working_directory + \"/data/scaffold_info/tara_scaffold.info\"))  as tara_in:\n",
    "    lines3 = tara_in.readlines()\n",
    "# make into dictionary\n",
    "tara = {line.split(\"\\t\")[1]: {\"tax\":line.split(\"\\t\")[2].strip(\"\\n\"), \"bin\": line.split(\"\\t\")[0]} for line in lines3}\n",
    "\n",
    "## UBA\n",
    "with open(os.path.join(working_directory + \"/data/scaffold_info/uba_scaffold.info\"))  as uba_in:\n",
    "    lines4 = uba_in.readlines()\n",
    "uba = {line.split(\"\\t\")[0]: {\"tax\":line.split(\"\\t\")[2].strip(\"\\n\"), \"bin\": line.split(\"\\t\")[0]} for line in lines4}\n",
    "\n",
    "# merge dictionaries\n",
    "scaffold_lookup = {**img, **ncbi, **tara, **uba}"
   ]
  },
  {
   "cell_type": "markdown",
   "metadata": {},
   "source": [
    "Next, we define a function to parse sequence headers and extract the necessary metadata for use in a dataframe."
   ]
  },
  {
   "cell_type": "code",
   "execution_count": 6,
   "metadata": {},
   "outputs": [],
   "source": [
    "def parse_header(header):\n",
    "    \n",
    "    try:\n",
    "        # for internal sequences\n",
    "        m = re.search('^>(\\S*).+?bin=\"([^\"]*).+?taxon_class=(\\S*).+?phylum=(\\S*).+?organism_tax=(.*)$|organism_desc', header)\n",
    "        return {\"gene\":m.group(1), \"bin\": m.group(2), \"class\": m.group(3), \"phylum\": m.group(4), \"tax\":m.group(5)}\n",
    "    except:\n",
    "        # for external sequences\n",
    "        m = re.search('>([A-z0-9]+?)_([A-z0-9_.]+)_[0-9]+', header)\n",
    "        try: \n",
    "            #control for variation in external headers\n",
    "            if \"UBA\" not in header:\n",
    "                tax = scaffold_lookup[m.group(2)][\"tax\"]\n",
    "                bin = scaffold_lookup[m.group(2)][\"bin\"]\n",
    "            else:\n",
    "                tax = scaffold_lookup[m.group(1).replace(\"contig\", \"\")][\"tax\"]\n",
    "                bin = scaffold_lookup[m.group(1).replace(\"contig\", \"\")][\"bin\"]\n",
    "            return {\"gene\":m.group(0).split(\" \")[0].strip(\">\"), \"bin\": \"external \" + bin, \"class\": \"unknown\", \"phylum\": \"unknown\", \"tax\":tax}\n",
    "        except:\n",
    "            try:\n",
    "                # for phage sequences\n",
    "                if \"PHAGE\" in header:\n",
    "                    name = header.strip(\">\").strip(\"\\n\")\n",
    "                    return {\"gene\": name, \"bin\": name, \"class\": \"unknown\", \"phylum\": \"unknown\", \"tax\":\"putative_phage\"}\n",
    "            except: print(header)"
   ]
  },
  {
   "cell_type": "code",
   "execution_count": 7,
   "metadata": {},
   "outputs": [],
   "source": [
    "# extract scaf, tax info\n",
    "info = []\n",
    "                \n",
    "for header in uniq:\n",
    "    info.append(parse_header(header))\n",
    "    \n",
    "# make into df\n",
    "df = pd.DataFrame.from_dict(info)\n",
    "df2 = df.dropna()"
   ]
  },
  {
   "cell_type": "markdown",
   "metadata": {},
   "source": [
    "### assign taxonomy to sequences"
   ]
  },
  {
   "cell_type": "code",
   "execution_count": 9,
   "metadata": {},
   "outputs": [],
   "source": [
    "# get phyla names\n",
    "phyla = list(set(df2.phylum.values)) + [\"Woesearchaeota\",\"Patescibacteria\",\"Gottesmanbacteria\",\\\n",
    "                                        \"Falkowbacteria\", \"Pacearchaeaota\", \"Pacearchaeota\", \"Aenigmarchaeota\", \\\n",
    "                                        \"Diapherotrites\", \"Nanoarchaeota\", \"Buchananbacteria\",\"Veblenbacteria\"]\n",
    "# get rid of ambiguous taxonomies\n",
    "phyla.remove(\"unknown\")\n",
    "phyla.remove(\"DPANN\")\n",
    "\n",
    "# read in tax override file into dict\n",
    "with open(os.path.join(working_directory + \"/data/tax_overrides.txt\"))  as infile:\n",
    "    lines = infile.readlines()\n",
    "    \n",
    "overrides = {}\n",
    "for entry in lines:\n",
    "    info = entry.strip().split(\"\\t\")\n",
    "    overrides[info[0]] = info[1]"
   ]
  },
  {
   "cell_type": "code",
   "execution_count": 10,
   "metadata": {},
   "outputs": [],
   "source": [
    "def assign_taxonomy(row):\n",
    "    \n",
    "    # phage sequences\n",
    "    if row[\"tax\"] == \"putative_phage\":\n",
    "        return row[\"tax\"]\n",
    "    \n",
    "    tax = \"unknown\"\n",
    "    \n",
    "    # if binned sequence\n",
    "    if (\"UNK\" not in row[\"bin\"]) and (\"Unbinned\" not in row[\"bin\"]) and (\"PHAGE\" not in row[\"bin\"]):\n",
    "        \n",
    "        if \"external\" in row[\"bin\"]:\n",
    "            field = \"tax\"\n",
    "        else: field = \"bin\"\n",
    "            \n",
    "        for phylum in phyla:\n",
    "            if phylum in row[field]:\n",
    "                tax = phylum\n",
    "        \n",
    "        if tax == \"WS6\":\n",
    "            tax = \"Dojkabacteria\"\n",
    "        \n",
    "        if tax == \"Micraarchaeota\":\n",
    "            tax = \"Micrarchaeota\"\n",
    "            \n",
    "        #check tax override\n",
    "        if row[\"bin\"] in overrides:\n",
    "            if overrides[row[\"bin\"]] != \"none\":\n",
    "                tax = overrides[row[\"bin\"]]\n",
    "            \n",
    "    # if unbinned sequence\n",
    "    if tax == \"unknown\":\n",
    "        \n",
    "        # phylum level\n",
    "        if row[\"phylum\"] in [\"Peregrinibacteria\", \"Dojkabacteria\",\"SR1\",\"Micrarchaeota\", \"Pacearchaeota\"]:\n",
    "            tax = row[\"phylum\"]\n",
    "\n",
    "        elif row[\"phylum\"] == \"Micraarchaeota\":\n",
    "            tax = \"Micrarchaeota\"\n",
    "\n",
    "        elif row[\"phylum\"] == \"WS6\":\n",
    "            tax = \"Dojkabacteria\"\n",
    "\n",
    "        # class level\n",
    "        elif row[\"phylum\"] in [\"Microgenomates\",\"Parcubacteria\",\"DPANN\"]:\n",
    "            if row[\"class\"] == \"Gottesmanbakteria\":\n",
    "                tax = \"Gottesmanbacteria\"\n",
    "            elif row[\"class\"] == \"Pacearchaeaota\":\n",
    "                tax = \"Pacearchaeota\"\n",
    "            elif row[\"class\"] == \"unknown\":\n",
    "                tax = row[\"phylum\"]\n",
    "            else: \n",
    "                tax = row[\"class\"]\n",
    "            \n",
    "    return tax"
   ]
  },
  {
   "cell_type": "code",
   "execution_count": 11,
   "metadata": {},
   "outputs": [],
   "source": [
    "# apply the taxonomy function\n",
    "df2[\"final_tax\"] = df2.apply(assign_taxonomy, axis=1)"
   ]
  },
  {
   "cell_type": "markdown",
   "metadata": {},
   "source": [
    "### add in RuBisCO Form"
   ]
  },
  {
   "cell_type": "markdown",
   "metadata": {},
   "source": [
    "Phylogenetic \"Form\" for sequences was determined as by constructing a maximum likelihood tree with RaXML (default parameters, cipres.org) and subsequently assigning each RuBisCO sequence to previously identified Forms based on phylogenetic clustering with reference sequences (Materials and Methods). Tree files are also available in the GitHub repository in /trees/."
   ]
  },
  {
   "cell_type": "code",
   "execution_count": 12,
   "metadata": {},
   "outputs": [],
   "source": [
    "# read in type file\n",
    "types = pd.read_csv(os.path.join(working_directory + \"/data/types.txt\"), sep=\"\\t\", header=None)\n",
    "types.columns = [\"gene\", \"type\"]\n",
    "# update old names\n",
    "types = types.replace(to_replace=\"III\", value=\"III-b\")\n",
    "types = types.replace(to_replace=\"new\", value=\"III-c\")\n",
    "types = types.replace(to_replace=\"II_III\", value=\"II/III\")\n",
    "types = types.replace(to_replace=\"III_like\", value=\"III-like\")\n",
    "types = types.replace(to_replace=\"IV_like\", value=\"IV-like\")"
   ]
  },
  {
   "cell_type": "code",
   "execution_count": 13,
   "metadata": {},
   "outputs": [],
   "source": [
    "# join with tax table\n",
    "data = pd.merge(df2, types)"
   ]
  },
  {
   "cell_type": "markdown",
   "metadata": {},
   "source": [
    "### add in habitat/sample information"
   ]
  },
  {
   "cell_type": "markdown",
   "metadata": {},
   "source": [
    "Next, we add some sample metadata describing the habitat from which genomes were recovered."
   ]
  },
  {
   "cell_type": "code",
   "execution_count": 14,
   "metadata": {},
   "outputs": [],
   "source": [
    "# read in habitat info and modify\n",
    "metadata = pd.read_csv(os.path.join(working_directory + \"/data/prefix_info.txt\"), header=None, sep=\"\\t\")\n",
    "md = metadata.fillna(\"None\")\n",
    "md.columns = [\"prefix\",\"sample\",\"habitat\",\"modifier\"]"
   ]
  },
  {
   "cell_type": "code",
   "execution_count": 15,
   "metadata": {},
   "outputs": [],
   "source": [
    "def prefixize(name):\n",
    "    return name.split(\"_\")[0]"
   ]
  },
  {
   "cell_type": "code",
   "execution_count": 16,
   "metadata": {},
   "outputs": [],
   "source": [
    "# join tables\n",
    "data[\"prefix\"] = data[\"gene\"].apply(lambda x: prefixize(x))\n",
    "data2 = pd.merge(data, md, on=\"prefix\", how=\"left\")"
   ]
  },
  {
   "cell_type": "markdown",
   "metadata": {},
   "source": [
    "### add amino acid residue information"
   ]
  },
  {
   "cell_type": "markdown",
   "metadata": {},
   "source": [
    "To analyze the biochemically-relevant characteristics of the RuBisCO sequences included in the de-replicated set, including those in the putative phage category, we extracted 12 residues known to be important for catalytic activity and 7 important for substrate binding from each sequence (Tabita et al. J. Exp. Bot. 2008).  Alignment is available in the GitHub /alignments/.\n",
    "\n",
    "We can then add these residues to the current data frame."
   ]
  },
  {
   "cell_type": "code",
   "execution_count": 17,
   "metadata": {},
   "outputs": [],
   "source": [
    "residues = {}\n",
    "# read in extracted residue information from alignment\n",
    "in_aln = SeqIO.parse(open(os.path.join(working_directory + \"/alignments/rubisco_final_sites.aln\")), \"fasta\")\n",
    "\n",
    "# turn aln into dict\n",
    "for record in in_aln:\n",
    "    temp = {}\n",
    "    temp[\"full_motif\"] = str(record.seq)\n",
    "    for i in range(0,len(record.seq)):\n",
    "        temp[i] = str(record.seq)[i]\n",
    "    residues[record.description] = temp\n",
    "\n",
    "# cast as df\n",
    "residues_df = pd.DataFrame.from_dict(residues, orient=\"index\")\n",
    "residues_df = residues_df.reset_index()\n",
    "residues_df = residues_df[[\"index\"] + list(range(0,19)) + [\"full_motif\"]]\n",
    "\n",
    "# change col names\n",
    "site_order = [\"CA\", \"SB\"] + [\"CA\"]*10 + [\"SB\"]*2 + [\"CA\"] + [\"SB\"]*4\n",
    "sb, ca = 1, 1\n",
    "col_names = [\"gene\"]\n",
    "for site in site_order:\n",
    "    if site==\"CA\":\n",
    "        col_names.append(\"CA\" + str(ca))\n",
    "        ca+=1\n",
    "    if site==\"SB\":\n",
    "        col_names.append(\"SB\" + str(sb))\n",
    "        sb+=1\n",
    "col_names.append(\"full_motif\")\n",
    "residues_df.columns = col_names"
   ]
  },
  {
   "cell_type": "code",
   "execution_count": 18,
   "metadata": {},
   "outputs": [],
   "source": [
    "# merge the data tables\n",
    "data3 = pd.merge(data2, residues_df, on=\"gene\")\n",
    "final = data3"
   ]
  },
  {
   "cell_type": "markdown",
   "metadata": {},
   "source": [
    "### sanity check - any lost sequences?"
   ]
  },
  {
   "cell_type": "code",
   "execution_count": 19,
   "metadata": {},
   "outputs": [
    {
     "data": {
      "text/plain": [
       "622"
      ]
     },
     "execution_count": 19,
     "metadata": {},
     "output_type": "execute_result"
    }
   ],
   "source": [
    "len(final)"
   ]
  },
  {
   "cell_type": "markdown",
   "metadata": {},
   "source": [
    "Let's have a look at our dataframe."
   ]
  },
  {
   "cell_type": "code",
   "execution_count": 20,
   "metadata": {},
   "outputs": [
    {
     "data": {
      "text/plain": [
       "Parcubacteria        15\n",
       "Gottesmanbacteria    12\n",
       "Kuenenbacteria       10\n",
       "Falkowbacteria        4\n",
       "Patescibacteria       3\n",
       "Microgenomates        1\n",
       "unknown               1\n",
       "Dojkabacteria         1\n",
       "Name: final_tax, dtype: int64"
      ]
     },
     "execution_count": 20,
     "metadata": {},
     "output_type": "execute_result"
    }
   ],
   "source": [
    "final[final.type==\"III-c\"][\"final_tax\"].value_counts()"
   ]
  },
  {
   "cell_type": "markdown",
   "metadata": {},
   "source": [
    "### add info back to the alignment"
   ]
  },
  {
   "cell_type": "code",
   "execution_count": 21,
   "metadata": {},
   "outputs": [],
   "source": [
    "# create dict keyed by gene - internal\n",
    "info_dict = {}\n",
    "for index,row in data3.iterrows():\n",
    "    info_dict[row[\"gene\"]] = {\"tax\":row[\"final_tax\"], \"type\": row[\"type\"]}\n",
    "    \n",
    "#ref sequences\n",
    "for line in open(os.path.join(working_directory + \"data/ref_types.txt\")).readlines():\n",
    "    if \"_REF\" in line:\n",
    "        info = line.strip().split(\"\\t\")\n",
    "        info_dict[info[0]] = {\"tax\":\"reference\", \"type\": info[1]}"
   ]
  },
  {
   "cell_type": "code",
   "execution_count": 25,
   "metadata": {},
   "outputs": [],
   "source": [
    "# read in alignment\n",
    "with open(os.path.join(working_directory + \"alignments/rubisco_final.drep99.wrefs.named.aln\"), \"w\") as new_aln:\n",
    "\n",
    "    aln = working_directory + \"alignments/rubisco_final.drep99.wrefs.aln\"\n",
    "        \n",
    "    for record in SeqIO.parse(open(aln),\"fasta\"):\n",
    "        # prune names\n",
    "        m = re.search(\"(\\S+).*\", record.description)\n",
    "        # add sequence to dict\n",
    "        try: info_dict[m.group(1)][\"seq\"] = str(record.seq)\n",
    "        except: print(record.description)\n",
    "\n",
    "    #sort by type and tax\n",
    "    seq_df = pd.DataFrame.from_dict(info_dict, orient=\"index\")\n",
    "    seq_df.sort_values([\"type\", \"tax\"], inplace=True)\n",
    "\n",
    "    for index, row in seq_df.iterrows():\n",
    "        new_header = index + \":\" + row[\"tax\"] + \":\" + row[\"type\"]\n",
    "        new_aln.write(\">\" + str(new_header) + \"\\n\" + str(row[\"seq\"]) + \"\\n\")"
   ]
  },
  {
   "cell_type": "markdown",
   "metadata": {},
   "source": [
    "### figure 1 - sequence logos by RuBisCO Form"
   ]
  },
  {
   "cell_type": "markdown",
   "metadata": {},
   "source": [
    "Next, we can generate the sequence logos that accompany the phylogenetic tree and protein models in Fig. 1."
   ]
  },
  {
   "cell_type": "code",
   "execution_count": 26,
   "metadata": {},
   "outputs": [],
   "source": [
    "os.mkdir(os.path.join(working_directory + \"/images/\"))"
   ]
  },
  {
   "cell_type": "code",
   "execution_count": 27,
   "metadata": {},
   "outputs": [],
   "source": [
    "def make_logo(df, slug, title):\n",
    "    \n",
    "    # dataframe -> alignment\n",
    "    with open(working_directory + \"/images/temp.aln\", \"w\") as outfile:\n",
    "        for index, row in df.iterrows():\n",
    "            outfile.write(\">\" + row[\"gene\"] + \"\\n\" + row[\"full_motif\"] + \"\\n\")\n",
    "    # get site names\n",
    "    site_names = list(df.columns[11:30])\n",
    "    ticks = \",\".join(site_names)\n",
    "    \n",
    "    # run weblogo\n",
    "    command = \"weblogo -f \" + working_directory + \"/images/temp.aln -o \" + working_directory + \"/images/\" + slug + \".eps\" + \" -F 'eps' --show-xaxis NO --annotate \" + ticks + \" --rotate-numbers True -s large --fineprint '' -c chemistry -t '\" + title + \"'\"\n",
    "    sp.call(command, shell=True)\n",
    "    # remove alignment\n",
    "    os.remove(working_directory + \"/images/temp.aln\")"
   ]
  },
  {
   "cell_type": "code",
   "execution_count": 28,
   "metadata": {},
   "outputs": [
    {
     "data": {
      "text/plain": [
       "III-b       326\n",
       "III-like     89\n",
       "IV-like      84\n",
       "III-c        46\n",
       "II/III       44\n",
       "unknown      11\n",
       "IV            9\n",
       "Name: type, dtype: int64"
      ]
     },
     "execution_count": 28,
     "metadata": {},
     "output_type": "execute_result"
    }
   ],
   "source": [
    "final[final[\"final_tax\"]!=\"unknown\"][\"type\"].value_counts()"
   ]
  },
  {
   "cell_type": "code",
   "execution_count": 29,
   "metadata": {},
   "outputs": [],
   "source": [
    "# now generate a logo for each type\n",
    "for rubisco_type in set(data3.type):\n",
    "    \n",
    "    if rubisco_type not in [\"unknown\", \"II\"]:\n",
    "        \n",
    "        # don't use tax == unknown for this, bc specifying cpr/dpann/phage\n",
    "        subset = data3[(data3.type == rubisco_type) & (data3.final_tax != \"unknown\")]\n",
    "        \n",
    "        # deal with naming issues\n",
    "        if rubisco_type == \"II/III\":\n",
    "            rubisco_type_final = \"II_III\"\n",
    "        else: rubisco_type_final = rubisco_type\n",
    "        \n",
    "        title = \"%s, n=%d\" %(rubisco_type, len(subset))\n",
    "        make_logo(subset, rubisco_type_final, title)"
   ]
  },
  {
   "cell_type": "markdown",
   "metadata": {},
   "source": [
    "### figure 2 - RuBisCO distribution among the CPR/DPANN"
   ]
  },
  {
   "cell_type": "markdown",
   "metadata": {},
   "source": [
    "To create Figure 2, we need to assemble a number of different statistics."
   ]
  },
  {
   "cell_type": "code",
   "execution_count": 30,
   "metadata": {},
   "outputs": [],
   "source": [
    "# define which phyla we want in the figure\n",
    "tokeep = [\"Aenigmarchaeota\",\"Beckwithbacteria\",\"Dojkabacteria\",\"Djokabacteria\",\"Diapherotrites\",\\\n",
    "          \"Falkowbacteria\",\"Gottesmanbacteria\",\"Kuenenbacteria\",\"Micrarchaeota\",\"Pacearchaeota\", \\\n",
    "          \"Pacearchaeaota\",\"Parcubacteria\",\"Peregrinibacteria\",\"Roizmanbacteria\",\"SR1\",\"Woesearchaeota\",\"WS6\"]\n",
    "\n",
    "# define function to extract taxonomy for non-redundant genomes\n",
    "def get_bin_tax(row):\n",
    "    \n",
    "    final_tax = \"none\"\n",
    "    \n",
    "    # start checking tax string\n",
    "    for item in tokeep:\n",
    "        if item in row[\"taxonomy\"]:\n",
    "            final_tax = item\n",
    "    \n",
    "    # if nothing found, check bin name\n",
    "    for item in tokeep:\n",
    "        if item in row[\"name\"]:\n",
    "            final_tax = item\n",
    "    \n",
    "    if final_tax == \"Pacearchaeaota\":\n",
    "        final_tax = \"Pacearchaeota\"\n",
    "    \n",
    "    if (final_tax == \"WS6\") or (final_tax == \"Djokabacteria\"):\n",
    "        final_tax = \"Dojkabacteria\"\n",
    "    \n",
    "    return final_tax"
   ]
  },
  {
   "cell_type": "markdown",
   "metadata": {},
   "source": [
    "#### first, the fraction of non-redundant genomes w/ RuBisCO"
   ]
  },
  {
   "cell_type": "markdown",
   "metadata": {},
   "source": [
    "To quantitatively assess RuBisCO presence across CPR and DPANN phyla, we repeated the KEGG analysis described in the methods for a set of ~3000 high quality genomes from various environments. These genomes were de-replicated at 99% secondary ANI using dRep (-comp 20) (Olm et al. ISME J. 2017) and then analyzed for presence of RuBisCO. We can read in the results of that analysis here..."
   ]
  },
  {
   "cell_type": "code",
   "execution_count": 31,
   "metadata": {},
   "outputs": [],
   "source": [
    "# read in names of all bins analyzed\n",
    "kegg_bins = pd.read_csv(os.path.join(working_directory + \"/data/kegg_analysis/kegg_bins.txt\"), sep=\"\\t\",header=None)\n",
    "kegg_bins.columns = [\"name\"]\n",
    "# add taxonmy information\n",
    "tax_table = pd.read_csv(os.path.join(working_directory + \"/data/kegg_analysis/all_organism_tax.table\"), sep = \"\\t\")\n",
    "temp = pd.merge(kegg_bins, tax_table, on=\"name\", how=\"left\")\n",
    "# now add rubisco-containing bins\n",
    "kegg_rubiscos = pd.read_csv(os.path.join(working_directory + \"/data/kegg_analysis/kegg_bins_wrubisco.txt\"), sep =\"\\t\", header=None)\n",
    "kegg_rubiscos[\"ones\"] = 1\n",
    "kegg_rubiscos.columns = [\"name\", \"ones\"]\n",
    "# merge this info in\n",
    "all_genome_info = pd.merge(temp, kegg_rubiscos, on=\"name\", how='left')\n",
    "all_genome_info[\"ones\"] = all_genome_info[\"ones\"].fillna(0)\n",
    "# get final taxonomy for bins\n",
    "all_genome_info[\"taxonomy\"] = all_genome_info[\"taxonomy\"].fillna(\"None\")\n",
    "all_genome_info[\"final_tax\"] = all_genome_info.apply(get_bin_tax, axis=1)\n",
    "# get total number of genomes from each tax group\n",
    "all_genome_info[\"total_ones\"] = 1\n",
    "all_genome_info_subset = all_genome_info[[\"final_tax\",\"ones\",\"total_ones\"]]\n",
    "all_g = all_genome_info_subset.groupby(\"final_tax\", as_index=False).sum()\n",
    "# remove some things we don't want\n",
    "to_remove = [\"Parcubacteria\",\"Microgenomates\",\"none\"]\n",
    "all_g = all_g[~all_g.final_tax.isin(to_remove)]\n",
    "# display proportion of genomes with RuBisCO\n",
    "all_g[\"Fraction of N.R.G. w/ RuBisCO\"] = all_g.apply(func=lambda x: str(int(x[\"ones\"])) + \"/\" + str(int(x[\"total_ones\"])), axis=1)"
   ]
  },
  {
   "cell_type": "code",
   "execution_count": 32,
   "metadata": {},
   "outputs": [
    {
     "data": {
      "text/html": [
       "<div>\n",
       "<style scoped>\n",
       "    .dataframe tbody tr th:only-of-type {\n",
       "        vertical-align: middle;\n",
       "    }\n",
       "\n",
       "    .dataframe tbody tr th {\n",
       "        vertical-align: top;\n",
       "    }\n",
       "\n",
       "    .dataframe thead th {\n",
       "        text-align: right;\n",
       "    }\n",
       "</style>\n",
       "<table border=\"1\" class=\"dataframe\">\n",
       "  <thead>\n",
       "    <tr style=\"text-align: right;\">\n",
       "      <th></th>\n",
       "      <th>final_tax</th>\n",
       "      <th>ones</th>\n",
       "      <th>total_ones</th>\n",
       "      <th>Fraction of N.R.G. w/ RuBisCO</th>\n",
       "    </tr>\n",
       "  </thead>\n",
       "  <tbody>\n",
       "    <tr>\n",
       "      <th>0</th>\n",
       "      <td>Aenigmarchaeota</td>\n",
       "      <td>4.0</td>\n",
       "      <td>8</td>\n",
       "      <td>4/8</td>\n",
       "    </tr>\n",
       "    <tr>\n",
       "      <th>1</th>\n",
       "      <td>Beckwithbacteria</td>\n",
       "      <td>1.0</td>\n",
       "      <td>11</td>\n",
       "      <td>1/11</td>\n",
       "    </tr>\n",
       "    <tr>\n",
       "      <th>2</th>\n",
       "      <td>Diapherotrites</td>\n",
       "      <td>8.0</td>\n",
       "      <td>12</td>\n",
       "      <td>8/12</td>\n",
       "    </tr>\n",
       "    <tr>\n",
       "      <th>3</th>\n",
       "      <td>Dojkabacteria</td>\n",
       "      <td>8.0</td>\n",
       "      <td>9</td>\n",
       "      <td>8/9</td>\n",
       "    </tr>\n",
       "    <tr>\n",
       "      <th>4</th>\n",
       "      <td>Falkowbacteria</td>\n",
       "      <td>0.0</td>\n",
       "      <td>21</td>\n",
       "      <td>0/21</td>\n",
       "    </tr>\n",
       "  </tbody>\n",
       "</table>\n",
       "</div>"
      ],
      "text/plain": [
       "          final_tax  ones  total_ones Fraction of N.R.G. w/ RuBisCO\n",
       "0   Aenigmarchaeota   4.0           8                           4/8\n",
       "1  Beckwithbacteria   1.0          11                          1/11\n",
       "2    Diapherotrites   8.0          12                          8/12\n",
       "3     Dojkabacteria   8.0           9                           8/9\n",
       "4    Falkowbacteria   0.0          21                          0/21"
      ]
     },
     "execution_count": 32,
     "metadata": {},
     "output_type": "execute_result"
    }
   ],
   "source": [
    "all_g.head()"
   ]
  },
  {
   "cell_type": "markdown",
   "metadata": {},
   "source": [
    "#### counts of unbinned + binned genes"
   ]
  },
  {
   "cell_type": "markdown",
   "metadata": {},
   "source": [
    "In the main analysis, how many of the analyzed RuBisCO genes are from binned/unbinned genomes, respectively?"
   ]
  },
  {
   "cell_type": "code",
   "execution_count": 33,
   "metadata": {},
   "outputs": [],
   "source": [
    "# these genomes are technically binned, but bins are low completeness/ quality so treating them as unbinned here\n",
    "with open(os.path.join(working_directory + \"/data/internal_unbinned.names\")) as infile:\n",
    "    lines = infile.readlines()\n",
    "internal_unbinned = [item.strip() for item in lines]"
   ]
  },
  {
   "cell_type": "code",
   "execution_count": 34,
   "metadata": {},
   "outputs": [],
   "source": [
    "# now get stats for binned vs unbinned rubisco\n",
    "types = {}\n",
    "for index, row in final.iterrows():\n",
    "    # if binned\n",
    "    if (\"UNK\" not in row[\"bin\"]) and (\"Unbinned\" not in row[\"bin\"]) and (\"PHAGE\" not in row[\"bin\"]) and (row[\"gene\"] not in internal_unbinned):\n",
    "        if row[\"final_tax\"] not in types:\n",
    "            types[row[\"final_tax\"]] = {\"binned\":1, \"unbinned\":0}\n",
    "        else: types[row[\"final_tax\"]][\"binned\"] += 1\n",
    "    # if unbinned\n",
    "    else:\n",
    "        if row[\"final_tax\"] not in types:\n",
    "            types[row[\"final_tax\"]] = {\"binned\":0, \"unbinned\":1}\n",
    "        else: types[row[\"final_tax\"]][\"unbinned\"] += 1"
   ]
  },
  {
   "cell_type": "code",
   "execution_count": 35,
   "metadata": {},
   "outputs": [],
   "source": [
    "# reformat type results\n",
    "types_df = pd.DataFrame.from_dict(types, orient=\"index\")\n",
    "types_df2 = types_df.reset_index()\n",
    "types_df2.columns = [\"organism_taxonomy\", \"Binned Sequences\",\"Unbinned Sequences\"]\n",
    "# merge this with results of NRG analysis, rename\n",
    "types_df2 = pd.merge(types_df2, all_g, left_on=\"organism_taxonomy\", right_on=\"final_tax\", how=\"left\")\n",
    "types_df2 = types_df2[[\"organism_taxonomy\",\"Unbinned Sequences\",\"Binned Sequences\",\"Fraction of N.R.G. w/ RuBisCO\"]]"
   ]
  },
  {
   "cell_type": "markdown",
   "metadata": {},
   "source": [
    "#### counts by RuBisCO Form"
   ]
  },
  {
   "cell_type": "code",
   "execution_count": 36,
   "metadata": {},
   "outputs": [],
   "source": [
    "form_sub = data2[[\"final_tax\",\"type\",\"gene\"]]\n",
    "form_sub_g = form_sub.groupby([\"final_tax\",\"type\"], as_index=False).count()\n",
    "form_sub_g.columns = [\"organism_taxonomy\",\"rubisco_type\",\"count\"]\n",
    "form_sub_p = form_sub_g.pivot(\"organism_taxonomy\", \"rubisco_type\", \"count\")\n",
    "# fill na with 0\n",
    "form_sub_p = form_sub_p.fillna(0)\n",
    "# convert to int counts\n",
    "form_sub_p[\"organism_taxonomy\"] = form_sub_p.index\n",
    "test = form_sub_p.drop(\"organism_taxonomy\", axis=1)\n",
    "fsp_int = test.astype(int)"
   ]
  },
  {
   "cell_type": "markdown",
   "metadata": {},
   "source": [
    "#### counts by habitat"
   ]
  },
  {
   "cell_type": "code",
   "execution_count": 37,
   "metadata": {},
   "outputs": [],
   "source": [
    "hab_sub = data2[[\"final_tax\",\"habitat\",\"gene\"]]\n",
    "hab_sub_g = hab_sub.groupby([\"final_tax\",\"habitat\"], as_index=False).count()\n",
    "hab_sub_g.columns = [\"organism_taxonomy\",\"habitat\",\"count\"]\n",
    "hab_sub_p = hab_sub_g.pivot(\"organism_taxonomy\", \"habitat\", \"count\")\n",
    "# fill na with 0\n",
    "hab_sub_p = hab_sub_p.fillna(0)\n",
    "# convert to int counts\n",
    "hab_sub_p[\"organism_taxonomy\"] = hab_sub_p.index\n",
    "hab_sub_p = hab_sub_p.drop(\"organism_taxonomy\", axis=1)\n",
    "hsg_int = hab_sub_p.astype(int)"
   ]
  },
  {
   "cell_type": "markdown",
   "metadata": {},
   "source": [
    "#### combine and plot"
   ]
  },
  {
   "cell_type": "code",
   "execution_count": 38,
   "metadata": {},
   "outputs": [],
   "source": [
    "temp_merge = pd.merge(types_df2, fsp_int, on=\"organism_taxonomy\")\n",
    "merged = pd.merge(temp_merge, hsg_int, on=\"organism_taxonomy\")\n",
    "# remove some rows/cols with low counts\n",
    "toremove = [\"II\",\"unknown\",\"Animal\",\"Fermentation\",\"None\",\"Palm Oil Mill Effluent\",\"Water\"]\n",
    "merge_mod = merged[(merged[\"organism_taxonomy\"].isin(tokeep))]\n",
    "merge_mod = merge_mod.replace(\"Parcubacteria\",\"Other Parcubacteria\")\n",
    "mt_reindex = merge_mod.set_index(\"organism_taxonomy\")\n",
    "merge_trimmed = mt_reindex[list(mt_reindex.columns[~mt_reindex.columns.isin(toremove)])]\n",
    "merge_ordered = merge_trimmed.reindex([\"Aenigmarchaeota\",\"Diapherotrites\",\"Micrarchaeota\",\"Pacearchaeota\",\"Woesearchaeota\",\"Dojkabacteria\",\"Peregrinibacteria\",\"SR1\",\"Beckwithbacteria\",\"Gottesmanbacteria\",\"Roizmanbacteria\",\"Falkowbacteria\",\"Kuenenbacteria\",\"Other Parcubacteria\"])\n",
    "merge_binary = merge_ordered >= 1"
   ]
  },
  {
   "cell_type": "code",
   "execution_count": 39,
   "metadata": {},
   "outputs": [
    {
     "data": {
      "image/png": "[encoded data removed]",
      "text/plain": [
       "<Figure size 1008x504 with 2 Axes>"
      ]
     },
     "metadata": {},
     "output_type": "display_data"
    }
   ],
   "source": [
    "plt.figure(figsize=(14,7))\n",
    "sns.heatmap(merge_binary, annot=merge_ordered, fmt='', linewidths=1, cmap=\"Blues\")\n",
    "plt.xticks(rotation=60, ha=\"right\")\n",
    "plt.ylabel(\"\")\n",
    "plt.savefig(os.path.join(working_directory + \"/images/fig_2.svg\"), format=\"svg\")"
   ]
  },
  {
   "cell_type": "markdown",
   "metadata": {},
   "source": [
    "### examining some interesting facets of RuBisCO distribution"
   ]
  },
  {
   "cell_type": "markdown",
   "metadata": {},
   "source": [
    "#### Form III-b RuBisCO"
   ]
  },
  {
   "cell_type": "code",
   "execution_count": 40,
   "metadata": {},
   "outputs": [],
   "source": [
    "# separate out arc/bac components\n",
    "arc = final[(final[\"final_tax\"].str.contains(\"archae\")) | (final[\"final_tax\"].str.contains(\"Diaphero\"))]\n",
    "bac = final[(~final[\"final_tax\"].str.contains(\"archae\")) & (~final[\"final_tax\"].str.contains(\"Diaphero\")) & (final[\"final_tax\"] != \"unknown\")]"
   ]
  },
  {
   "cell_type": "code",
   "execution_count": 41,
   "metadata": {
    "scrolled": true
   },
   "outputs": [
    {
     "data": {
      "text/plain": [
       "Amesbacteria        10\n",
       "Levybacteria         3\n",
       "CPR                  1\n",
       "Buchananbacteria     1\n",
       "Name: final_tax, dtype: int64"
      ]
     },
     "execution_count": 41,
     "metadata": {},
     "output_type": "execute_result"
    }
   ],
   "source": [
    "bac[bac.type==\"III-b\"].final_tax.value_counts()"
   ]
  },
  {
   "cell_type": "markdown",
   "metadata": {},
   "source": [
    "Some sequences from CPR appear to encode Form III-b archaeal RuBisCO. As noted in the manuscript, further analysis showed that taxonomic profiling for these bins was inconclusive in the case of Amesbacteria, Levybacteria, and Kuenenbacteria, and incorrect in the case of Buchananbacteria."
   ]
  },
  {
   "cell_type": "code",
   "execution_count": 42,
   "metadata": {},
   "outputs": [
    {
     "data": {
      "text/plain": [
       "Pacearchaeota      211\n",
       "Micrarchaeota       65\n",
       "Woesearchaeota      16\n",
       "Aenigmarchaeota     12\n",
       "Diapherotrites       5\n",
       "Nanoarchaeota        2\n",
       "Name: final_tax, dtype: int64"
      ]
     },
     "execution_count": 42,
     "metadata": {},
     "output_type": "execute_result"
    }
   ],
   "source": [
    "arc[arc.type==\"III-b\"].final_tax.value_counts()"
   ]
  },
  {
   "cell_type": "markdown",
   "metadata": {},
   "source": [
    "We add III-b sequences from Diapherotrites, Micrarchaeota, and Woesearchaeota."
   ]
  },
  {
   "cell_type": "markdown",
   "metadata": {},
   "source": [
    "### type IV + IV-like"
   ]
  },
  {
   "cell_type": "code",
   "execution_count": 43,
   "metadata": {},
   "outputs": [
    {
     "data": {
      "text/plain": [
       "Parcubacteria    8\n",
       "unknown          1\n",
       "Micrarchaeota    1\n",
       "Name: final_tax, dtype: int64"
      ]
     },
     "execution_count": 43,
     "metadata": {},
     "output_type": "execute_result"
    }
   ],
   "source": [
    "final[final.type==\"IV\"].final_tax.value_counts()"
   ]
  },
  {
   "cell_type": "code",
   "execution_count": 44,
   "metadata": {},
   "outputs": [
    {
     "data": {
      "text/plain": [
       "putative_phage      82\n",
       "Beckwithbacteria     2\n",
       "unknown              1\n",
       "Name: final_tax, dtype: int64"
      ]
     },
     "execution_count": 44,
     "metadata": {},
     "output_type": "execute_result"
    }
   ],
   "source": [
    "final[final.type==\"IV-like\"].final_tax.value_counts()"
   ]
  },
  {
   "cell_type": "markdown",
   "metadata": {},
   "source": [
    "Interestingly, all Beckwithbacteria in our dataset have type IV RLPs."
   ]
  },
  {
   "cell_type": "markdown",
   "metadata": {},
   "source": [
    "### Form III-c"
   ]
  },
  {
   "cell_type": "code",
   "execution_count": 45,
   "metadata": {},
   "outputs": [
    {
     "data": {
      "text/plain": [
       "Parcubacteria        15\n",
       "Gottesmanbacteria    12\n",
       "Kuenenbacteria       10\n",
       "Falkowbacteria        4\n",
       "Patescibacteria       3\n",
       "Microgenomates        1\n",
       "unknown               1\n",
       "Dojkabacteria         1\n",
       "Name: final_tax, dtype: int64"
      ]
     },
     "execution_count": 45,
     "metadata": {},
     "output_type": "execute_result"
    }
   ],
   "source": [
    "final[final.type==\"III-c\"].final_tax.value_counts()"
   ]
  },
  {
   "cell_type": "markdown",
   "metadata": {},
   "source": [
    "This is a very interesting group! Gottesmanbacteria are split between here and III-like, whereas Kuenenbacteria and Falkowbacteria are almost exclusively in this clade."
   ]
  },
  {
   "cell_type": "markdown",
   "metadata": {},
   "source": [
    "# AMP pathway analysis"
   ]
  },
  {
   "cell_type": "markdown",
   "metadata": {},
   "source": [
    "<ul>\n",
    "    1.    [Main RuBisCO analysis](#main-rubisco-analysis)<br>\n",
    "    2.    [AMP Pathway analysis](#AMP-pathway-analysis)<br>\n",
    "    3.    [PRK/Calvin Cycle analysis](#PRK/CBB-analysis)\n",
    "</ul>\n",
    "\n",
    "For this part of the analysis, we'll focus on binned genomes."
   ]
  },
  {
   "cell_type": "markdown",
   "metadata": {},
   "source": [
    "### regenerate data for binned genomes"
   ]
  },
  {
   "cell_type": "markdown",
   "metadata": {},
   "source": [
    "First, we need to regenerate a dataframe for all the binned RuBisCO sequences, as many were 'de-replicated out' of the first analysis and therefore not included."
   ]
  },
  {
   "cell_type": "code",
   "execution_count": 46,
   "metadata": {},
   "outputs": [],
   "source": [
    "# read in sequences from binned genomes\n",
    "file_in = SeqIO.parse(open(os.path.join(working_directory + \"/data/rubisco_binned.final.min200.faa\")), \"fasta\")\n",
    "\n",
    "# gather headers\n",
    "headers = []\n",
    "for record in file_in:\n",
    "    headers.append(\">\" + record.description)\n",
    "\n",
    "# parse headers\n",
    "genomes = []\n",
    "for header in headers:\n",
    "    genomes.append(parse_header(header))\n",
    "\n",
    "# re-assign taxonomy\"\n",
    "df = pd.DataFrame.from_dict(genomes)\n",
    "binned = df.dropna()\n",
    "binned[\"final_tax\"] = binned.apply(assign_taxonomy, axis=1)"
   ]
  },
  {
   "cell_type": "markdown",
   "metadata": {},
   "source": [
    "Binned sequences excluded from the de-replicated set were re-inserted into the tree and classified for downstream analyses. We add those back in here."
   ]
  },
  {
   "cell_type": "code",
   "execution_count": 47,
   "metadata": {},
   "outputs": [],
   "source": [
    "# add rubisco type\n",
    "types = pd.read_csv(os.path.join(working_directory + \"/data/types_binned.txt\"), sep=\"\\t\", header=None)\n",
    "types.columns = [\"gene\", \"type\"]\n",
    "# clean type names\n",
    "types = types.replace(to_replace=\"III\", value=\"III-b\")\n",
    "types = types.replace(to_replace=\"new\", value=\"III-c\")\n",
    "types = types.replace(to_replace=\"II_III\", value=\"II/III\")\n",
    "types = types.replace(to_replace=\"III_like\", value=\"III-like\")\n",
    "binned2 = pd.merge(binned,types, how=\"left\")\n",
    "# add habitat\n",
    "binned2[\"prefix\"] = binned2[\"gene\"].apply(lambda x: prefixize(x))\n",
    "binned3 = pd.merge(binned2, md, how = \"left\", on=\"prefix\")"
   ]
  },
  {
   "cell_type": "code",
   "execution_count": 48,
   "metadata": {},
   "outputs": [],
   "source": [
    "# clean up project name\n",
    "def reassign_sample(row):\n",
    "    if \"external\" in row[\"bin\"]: \n",
    "        if \"img\" in row[\"gene\"]:\n",
    "            return \"IMG\"\n",
    "        elif \"NCBI\" in row[\"gene\"]:\n",
    "            return \"NCBI\"\n",
    "        elif \"UBA\" in row[\"gene\"]:\n",
    "            return \"UBA\"\n",
    "        elif \"tara\" in row[\"gene\"]:\n",
    "            return \"TARA\"\n",
    "    else: return row[\"sample\"]\n",
    "    \n",
    "binned3[\"project\"] = binned3.apply(reassign_sample, axis=1)"
   ]
  },
  {
   "cell_type": "markdown",
   "metadata": {},
   "source": [
    "What's the distribution of RuBisCO types among high-quality binned genomes?"
   ]
  },
  {
   "cell_type": "code",
   "execution_count": 49,
   "metadata": {},
   "outputs": [
    {
     "data": {
      "text/plain": [
       "III-b       106\n",
       "III-like     74\n",
       "II/III       68\n",
       "III-c        59\n",
       "unknown      10\n",
       "IV            4\n",
       "IV_like       1\n",
       "Name: type, dtype: int64"
      ]
     },
     "execution_count": 49,
     "metadata": {},
     "output_type": "execute_result"
    }
   ],
   "source": [
    "binned3.type.value_counts()"
   ]
  },
  {
   "cell_type": "markdown",
   "metadata": {},
   "source": [
    "Now, we want to analyze the rest of the AMP pathway among these binned genomes. First step is to add in information about these pathway components from the KEGG analysis (see materials and methods)."
   ]
  },
  {
   "cell_type": "markdown",
   "metadata": {
    "collapsed": true
   },
   "source": [
    "### add <i>e2b2</i> and <i>deoA</i> results"
   ]
  },
  {
   "cell_type": "code",
   "execution_count": 50,
   "metadata": {},
   "outputs": [],
   "source": [
    "# define function to clean kegg hmm results\n",
    "def repair(list_set):\n",
    "    for item in list_set:\n",
    "        if item[\"bin\"] == \"-\":\n",
    "            m = re.search(\"[A-z]+_([A-z0-9.]+)_[0-9]+\", item[\"gene\"])\n",
    "            item[\"bin\"] = scaffold_lookup[m.group(1)][\"bin\"]"
   ]
  },
  {
   "cell_type": "code",
   "execution_count": 51,
   "metadata": {},
   "outputs": [],
   "source": [
    "# read in kegg hmm results\n",
    "e2b2_info, deo_info = [], []\n",
    "\n",
    "for line in open(os.path.join(working_directory + \"/data/kegg_analysis/e2b2.results\")):\n",
    "    e2b2_info.append({\"bin\":line.split(\"\\t\")[0].strip(\"\\n\"), \"gene\":line.split(\"\\t\")[1].strip(\"\\n\")})\n",
    "for line in open(os.path.join(working_directory + \"/data/kegg_analysis/deo.results\")):\n",
    "    deo_info.append({\"bin\":line.split(\"\\t\")[0].strip(\"\\n\"), \"gene\":line.split(\"\\t\")[1].strip(\"\\n\")})\n",
    "\n",
    "repair(e2b2_info)\n",
    "repair(deo_info)"
   ]
  },
  {
   "cell_type": "code",
   "execution_count": 52,
   "metadata": {},
   "outputs": [],
   "source": [
    "# create df's \n",
    "e2b2_df = pd.DataFrame.from_dict(e2b2_info)\n",
    "deo_df = pd.DataFrame.from_dict(deo_info)\n",
    "e2b2_df.columns = [\"bin2\", \"e2b2_gene\"]\n",
    "deo_df.columns =  [\"bin2\", \"deoA_gene\"]\n",
    "# join dfs\n",
    "# NB needed for kegg hmm import strategy\n",
    "binned3[\"bin2\"] = binned3.bin.str.replace(\"external \", \"\")\n",
    "temp = pd.merge(binned3, deo_df, how=\"left\", on=\"bin2\")\n",
    "nsp = pd.merge(temp, e2b2_df, how = \"left\", on=\"bin2\").fillna(\"None\")\n",
    "# remove duplicates\n",
    "nsp = nsp.drop_duplicates()"
   ]
  },
  {
   "cell_type": "markdown",
   "metadata": {},
   "source": [
    "Now we have a dataframe connecting genomes, their RuBisCO gene, and deoA and e2b2 genes if they have them. Next, we analyze patterns of co-occurence, ordering, and proximity of the pathway among these genomes."
   ]
  },
  {
   "cell_type": "markdown",
   "metadata": {},
   "source": [
    "### analyze co-occurence of AMP pathway genes among binned genomes"
   ]
  },
  {
   "cell_type": "code",
   "execution_count": 53,
   "metadata": {},
   "outputs": [
    {
     "data": {
      "image/png": "[encoded data removed]",
      "text/plain": [
       "<Figure size 576x576 with 1 Axes>"
      ]
     },
     "metadata": {},
     "output_type": "display_data"
    }
   ],
   "source": [
    "def venn_it(df):\n",
    "    # ones with rubisco\n",
    "    set1 = set(df[\"bin\"])\n",
    "    # ones with e2b2\n",
    "    set2 = set(list(df[df[\"e2b2_gene\"] != \"None\"][\"bin\"]))\n",
    "    # ones with deoA\n",
    "    set3 = set(list(df[df[\"deoA_gene\"] != \"None\"][\"bin\"]))\n",
    "\n",
    "    plt.figure(figsize=(8,8))\n",
    "    venn3([set1,set2,set3], (\"RuBisCO\", \"e2b2\", \"deoA\"))\n",
    "    #plt.show()\n",
    "    plt.savefig(os.path.join(working_directory + \"/images/fig_S2a.svg\"), format=\"svg\")\n",
    "\n",
    "venn_it(nsp)"
   ]
  },
  {
   "cell_type": "markdown",
   "metadata": {},
   "source": [
    "On a first pass, we see that many genomes contain only RuBisCO and e2b2, without deoA."
   ]
  },
  {
   "cell_type": "code",
   "execution_count": 54,
   "metadata": {},
   "outputs": [
    {
     "data": {
      "text/plain": [
       "None                                       47\n",
       "RBG_16_OP11_37_8_RBG_16_scaffold_649_41     1\n",
       "Name: deoA_gene, dtype: int64"
      ]
     },
     "execution_count": 54,
     "metadata": {},
     "output_type": "execute_result"
    }
   ],
   "source": [
    "nsp[nsp.final_tax==\"Gottesmanbacteria\"][\"deoA_gene\"].value_counts()"
   ]
  },
  {
   "cell_type": "markdown",
   "metadata": {},
   "source": [
    "Additionally, see that almost no Gottesmanbacteria contain a deoA gene as currently analyzed. Looking more closely, we found that most Gottesmanbacteria (OP11) contained homologs to deoA at a threshold lower than originally used in the KEGG analysis, as these sequences generally had a conserved deletion of ~80 amino acids at the start of the protein compared to other CPR proteins. Despite this, we predict that these proteins are divergent deoA homologs based on phylogenetic placement and re-alignment with reference sequences. So, we separately extracted them and can add them back to the dataframe:"
   ]
  },
  {
   "cell_type": "markdown",
   "metadata": {},
   "source": [
    "### add in data for divergent Gottesmanbacteria <i> deoA </i> - Figure S2a"
   ]
  },
  {
   "cell_type": "code",
   "execution_count": 55,
   "metadata": {},
   "outputs": [],
   "source": [
    "# read in scaffold 2 bin information\n",
    "scaf2bin = {}\n",
    "for line in open(os.path.join(working_directory + \"/data/kegg_analysis/all.scaf2bin\")):\n",
    "    scaf2bin[line.split(\"\\t\")[0]] = line.split(\"\\t\")[1].strip(\"\\n\")\n",
    "    \n",
    "# def useful function to extract scaffold name\n",
    "def scaffold(gene):\n",
    "    if gene != \"None\":\n",
    "        try: return re.search(\"(.+?)_[0-9]+$\", gene).group(1)\n",
    "        except: print(gene)"
   ]
  },
  {
   "cell_type": "code",
   "execution_count": 56,
   "metadata": {},
   "outputs": [],
   "source": [
    "# read in divergent gottesman deoA and clean\n",
    "gottes = pd.read_csv(os.path.join(working_directory + \"/data/kegg_analysis/gottes.tbl\"), sep=\"\\t\", header=None)\n",
    "gottes.columns = [\"deoA_gene\", \"annot\", \"eval\",\"score\"]\n",
    "gottes[\"scaf\"] = gottes[\"deoA_gene\"].apply(scaffold)\n",
    "gottes[\"bin2\"] = gottes[\"scaf\"].apply(lambda x: scaf2bin[x])\n",
    "# filter for only quality hits using hmm score\n",
    "gottes_subset = gottes[(gottes[\"score\"]>100)][[\"bin2\", \"deoA_gene\"]]\n",
    "nsp[\"bin2\"] = nsp.bin.str.replace(\"external \", \"\")\n",
    "# merge with old data\n",
    "nsp_g = pd.merge(nsp, gottes_subset, on=\"bin2\", how=\"left\").fillna(\"None\")"
   ]
  },
  {
   "cell_type": "code",
   "execution_count": 57,
   "metadata": {},
   "outputs": [
    {
     "data": {
      "image/png": "[encoded data removed]",
      "text/plain": [
       "<Figure size 576x576 with 1 Axes>"
      ]
     },
     "metadata": {},
     "output_type": "display_data"
    }
   ],
   "source": [
    "# update dataframe and plot\n",
    "def choose(row):\n",
    "    return row[\"deoA_gene_x\"] if row[\"deoA_gene_x\"] != \"None\" else row[\"deoA_gene_y\"]\n",
    "\n",
    "nsp_g[\"deoA_gene\"] = nsp_g.apply(choose, axis=1)\n",
    "matplotlib.rcParams.update({'font.size': 22})\n",
    "nsp_new = nsp_g\n",
    "venn_it(nsp_new)"
   ]
  },
  {
   "cell_type": "code",
   "execution_count": 58,
   "metadata": {},
   "outputs": [
    {
     "data": {
      "text/plain": [
       "0.9148936170212766"
      ]
     },
     "execution_count": 58,
     "metadata": {},
     "output_type": "execute_result"
    }
   ],
   "source": [
    "# percentage of Gottesman bacteria encoding divergent deoA\n",
    "len(set(nsp_new[(nsp_new.final_tax==\"Gottesmanbacteria\") & (nsp_new.deoA_gene!=\"None\")][\"bin\"]))/float(len(set(nsp_new[(nsp_new.final_tax==\"Gottesmanbacteria\")][\"bin\"])))"
   ]
  },
  {
   "cell_type": "markdown",
   "metadata": {},
   "source": [
    "### how many binned genes have all pathway components on the same contig? Figure S2b"
   ]
  },
  {
   "cell_type": "code",
   "execution_count": 59,
   "metadata": {},
   "outputs": [],
   "source": [
    "rub_scafs = [scaffold(gene) for gene in list(nsp_new.gene)]\n",
    "e2b2_scafs = [scaffold(gene) for gene in list(nsp_new[\"e2b2_gene\"])]\n",
    "deo_scafs = [scaffold(gene) for gene in list(nsp_new[\"deoA_gene\"])]"
   ]
  },
  {
   "cell_type": "code",
   "execution_count": 60,
   "metadata": {},
   "outputs": [
    {
     "data": {
      "image/png": "[encoded data removed]",
      "text/plain": [
       "<Figure size 720x720 with 1 Axes>"
      ]
     },
     "metadata": {},
     "output_type": "display_data"
    }
   ],
   "source": [
    "plt.figure(figsize=(10,10))\n",
    "venn3([set(rub_scafs),set(e2b2_scafs),set(deo_scafs)], (\"RuBisCO\", \"e2b2\", \"deoA\"))\n",
    "#plt.show()\n",
    "plt.savefig(os.path.join(working_directory + \"/images/fig_S2b.svg\"), format=\"svg\")"
   ]
  },
  {
   "cell_type": "markdown",
   "metadata": {},
   "source": [
    "There are 46 fragments encoding all three genes of the AMP pathway. For those, we can then analyze gene order and proximity..."
   ]
  },
  {
   "cell_type": "markdown",
   "metadata": {},
   "source": [
    "### analyze gene order for all genomes - Figure S2c"
   ]
  },
  {
   "cell_type": "code",
   "execution_count": 61,
   "metadata": {},
   "outputs": [],
   "source": [
    "# function to count genes on the same scaffold\n",
    "def scaffoldize(row):\n",
    "    \n",
    "    scaffolds = []\n",
    "    for gene in genes:\n",
    "        \n",
    "        if row[gene] != \"None\":\n",
    "            scaffolds.append(re.search(\"(.+?)_[0-9]+$\", row[gene]).group(1))\n",
    "        else:\n",
    "            scaffolds.append(\"None_\" + gene)\n",
    "    \n",
    "    return  (len(genes)+1) - len(set(scaffolds))    \n",
    "\n",
    "# if so, gets order of genes\n",
    "def get_gene_order(row):\n",
    "    \n",
    "    if row[\"proximity\"] == 3:\n",
    "        \n",
    "        gene_nos = []\n",
    "\n",
    "        # get gene numbers as ints\n",
    "        for gene in genes:\n",
    "            if row[gene] != \"None\":\n",
    "                gene_nos.append(int(row[gene].split(\"_\")[-1]))\n",
    "\n",
    "        # test for consecutiveness\n",
    "        if ((max(gene_nos) - min(gene_nos)) == (len(gene_nos) -1)) & (len(gene_nos) > 1):\n",
    "            is_consecutive = True\n",
    "        else: is_consecutive = False\n",
    "            \n",
    "        # sort gene numbers\n",
    "        gene_nos_sorted = sorted(gene_nos)\n",
    "        \n",
    "        # get gene ordering\n",
    "        order = [\"slot\"]*3\n",
    "        for gene in genes:\n",
    "            order[gene_nos_sorted.index(int(row[gene].split(\"_\")[-1]))] = gene\n",
    "        \n",
    "        # rename rubisco\n",
    "        order_mod = [gene if gene != \"gene\" else \"rubisco\" for gene in order]\n",
    "        # control for fusions\n",
    "        order_mod2 = [gene if gene != \"slot\" else \"rubisco\" for gene in order_mod]\n",
    "        \n",
    "        return \", \".join(order_mod2), is_consecutive\n",
    "             \n",
    "    else: return \"n/a\", \"n/a\"\n",
    "\n",
    "# checks if genes are the same - fusion candidates\n",
    "def is_fusion(row):\n",
    "    \n",
    "    # get genes which are not None\n",
    "    genes = [row[\"gene\"], row[\"e2b2_gene\"], row[\"deoA_gene\"]]\n",
    "    not_none = [gene for gene in genes if gene != \"None\"]\n",
    "    \n",
    "    # if any are the same\n",
    "    if len(set(not_none)) < len(not_none):\n",
    "        \n",
    "        return True\n",
    "    \n",
    "    else: return False"
   ]
  },
  {
   "cell_type": "code",
   "execution_count": 62,
   "metadata": {},
   "outputs": [],
   "source": [
    "# apply these functions to the dataframe\n",
    "genes = [\"gene\", \"e2b2_gene\", \"deoA_gene\"]\n",
    "nsp_new[\"proximity\"] = nsp_new.apply(scaffoldize, axis=1)\n",
    "nsp_new[\"order\"], nsp_new[\"is_consecutive\"] = zip(*nsp_new.apply(get_gene_order, axis=1))\n",
    "nsp_new[\"is_fusion\"] = nsp_new.apply(is_fusion, axis =1 )"
   ]
  },
  {
   "cell_type": "code",
   "execution_count": 63,
   "metadata": {},
   "outputs": [
    {
     "data": {
      "image/png": "[encoded data removed]",
      "text/plain": [
       "<Figure size 504x432 with 1 Axes>"
      ]
     },
     "metadata": {},
     "output_type": "display_data"
    }
   ],
   "source": [
    "# plot / analyze order of genes in cases where we have all three!\n",
    "x = nsp_new[nsp_new.proximity ==3].drop_duplicates()[\"order\"].str.replace(\"rubisco\",\"RuBisCO\").value_counts()\n",
    "sns.set_style(\"whitegrid\")\n",
    "xy = pd.DataFrame(x)\n",
    "xy[\"type\"] = xy.index\n",
    "plt.figure(figsize=(7,6))\n",
    "sns.barplot(x=\"type\", y=\"order\", data=xy)\n",
    "plt.xticks(rotation=45, ha=\"right\", fontsize=18)\n",
    "plt.yticks(fontsize=14)\n",
    "plt.xlabel(\"\")\n",
    "plt.ylabel(\"Count\", fontsize=14)\n",
    "plt.yticks(np.arange(0, 20, 2.0))\n",
    "plt.savefig(os.path.join(working_directory + \"/images/fig_S2c.svg\"), format=\"svg\")"
   ]
  },
  {
   "cell_type": "markdown",
   "metadata": {},
   "source": [
    "Most genomes with the AMP pathway components on the same contig have RuBisCO in the middle."
   ]
  },
  {
   "cell_type": "code",
   "execution_count": 64,
   "metadata": {},
   "outputs": [
    {
     "data": {
      "text/plain": [
       "deoA_gene, rubisco, e2b2_gene    6\n",
       "e2b2_gene, rubisco, deoA_gene    5\n",
       "Name: order, dtype: int64"
      ]
     },
     "execution_count": 64,
     "metadata": {},
     "output_type": "execute_result"
    }
   ],
   "source": [
    "nsp_new[nsp_new[\"is_consecutive\"] == True][\"order\"].value_counts()"
   ]
  },
  {
   "cell_type": "markdown",
   "metadata": {},
   "source": [
    "Among genomes with consecutive pathways, all have RuBisCO in the middle. At this point, we can also examine which contigs encoded all three genes consecutively:"
   ]
  },
  {
   "cell_type": "code",
   "execution_count": 65,
   "metadata": {},
   "outputs": [
    {
     "data": {
      "text/html": [
       "<div>\n",
       "<style scoped>\n",
       "    .dataframe tbody tr th:only-of-type {\n",
       "        vertical-align: middle;\n",
       "    }\n",
       "\n",
       "    .dataframe tbody tr th {\n",
       "        vertical-align: top;\n",
       "    }\n",
       "\n",
       "    .dataframe thead th {\n",
       "        text-align: right;\n",
       "    }\n",
       "</style>\n",
       "<table border=\"1\" class=\"dataframe\">\n",
       "  <thead>\n",
       "    <tr style=\"text-align: right;\">\n",
       "      <th></th>\n",
       "      <th>bin</th>\n",
       "      <th>final_tax</th>\n",
       "      <th>deoA_gene</th>\n",
       "      <th>gene</th>\n",
       "      <th>e2b2_gene</th>\n",
       "    </tr>\n",
       "  </thead>\n",
       "  <tbody>\n",
       "    <tr>\n",
       "      <th>5</th>\n",
       "      <td>GWA2_OD1_42_15</td>\n",
       "      <td>Kuenenbacteria</td>\n",
       "      <td>gwa2_scaffold_11482_4</td>\n",
       "      <td>gwa2_scaffold_11482_5</td>\n",
       "      <td>gwa2_scaffold_11482_6</td>\n",
       "    </tr>\n",
       "    <tr>\n",
       "      <th>35</th>\n",
       "      <td>GWC2_OD1_39_14</td>\n",
       "      <td>Parcubacteria</td>\n",
       "      <td>gwc2_scaffold_633_22</td>\n",
       "      <td>gwc2_scaffold_633_23</td>\n",
       "      <td>gwc2_scaffold_633_24</td>\n",
       "    </tr>\n",
       "    <tr>\n",
       "      <th>39</th>\n",
       "      <td>GWA2_OD1_40_23</td>\n",
       "      <td>Parcubacteria</td>\n",
       "      <td>gwa2_scaffold_913_22</td>\n",
       "      <td>gwa2_scaffold_913_23</td>\n",
       "      <td>gwa2_scaffold_913_24</td>\n",
       "    </tr>\n",
       "    <tr>\n",
       "      <th>177</th>\n",
       "      <td>Candidatus Kuenenbacteria bacterium RIFCSPHIGH...</td>\n",
       "      <td>Kuenenbacteria</td>\n",
       "      <td>RIFCSPHIGHO2_02_FULL_OD1_42_29_rifcsphigho2_02...</td>\n",
       "      <td>RIFCSPHIGHO2_02_FULL_OD1_42_29_rifcsphigho2_02...</td>\n",
       "      <td>RIFCSPHIGHO2_02_FULL_OD1_42_29_rifcsphigho2_02...</td>\n",
       "    </tr>\n",
       "    <tr>\n",
       "      <th>187</th>\n",
       "      <td>Candidatus Kuenenbacteria bacterium RIFCSPHIGH...</td>\n",
       "      <td>Kuenenbacteria</td>\n",
       "      <td>RIFCSPHIGHO2_12_FULL_OD1_42_14_rifcsphigho2_12...</td>\n",
       "      <td>RIFCSPHIGHO2_12_FULL_OD1_42_14_rifcsphigho2_12...</td>\n",
       "      <td>RIFCSPHIGHO2_12_FULL_OD1_42_14_rifcsphigho2_12...</td>\n",
       "    </tr>\n",
       "    <tr>\n",
       "      <th>203</th>\n",
       "      <td>Candidatus Kuenenbacteria bacterium RIFCSPLOWO...</td>\n",
       "      <td>Kuenenbacteria</td>\n",
       "      <td>RIFCSPLOWO2_02_FULL_OD1_42_16_rifcsplowo2_02_s...</td>\n",
       "      <td>RIFCSPLOWO2_02_FULL_OD1_42_16_rifcsplowo2_02_s...</td>\n",
       "      <td>RIFCSPLOWO2_02_FULL_OD1_42_16_rifcsplowo2_02_s...</td>\n",
       "    </tr>\n",
       "    <tr>\n",
       "      <th>215</th>\n",
       "      <td>Candidatus Kuenenbacteria bacterium RIFCSPLOWO...</td>\n",
       "      <td>Kuenenbacteria</td>\n",
       "      <td>RIFCSPLOWO2_12_FULL_OD1_42_13_rifcsplowo2_12_s...</td>\n",
       "      <td>RIFCSPLOWO2_12_FULL_OD1_42_13_rifcsplowo2_12_s...</td>\n",
       "      <td>RIFCSPLOWO2_12_FULL_OD1_42_13_rifcsplowo2_12_s...</td>\n",
       "    </tr>\n",
       "    <tr>\n",
       "      <th>238</th>\n",
       "      <td>CG1_02_FULL_Parcubacteria_OD1_37_51_curated</td>\n",
       "      <td>Parcubacteria</td>\n",
       "      <td>cg1_0.2_scaffold_3774_c_6</td>\n",
       "      <td>cg1_0.2_scaffold_3774_c_7</td>\n",
       "      <td>cg1_0.2_scaffold_3774_c_8</td>\n",
       "    </tr>\n",
       "    <tr>\n",
       "      <th>251</th>\n",
       "      <td>CG2_30_FULL_CPR_37_22_curated</td>\n",
       "      <td>unknown</td>\n",
       "      <td>cg2_3.0_scaffold_3725_c_6</td>\n",
       "      <td>cg2_3.0_scaffold_3725_c_7</td>\n",
       "      <td>cg2_3.0_scaffold_3725_c_8</td>\n",
       "    </tr>\n",
       "    <tr>\n",
       "      <th>379</th>\n",
       "      <td>external UBA1441</td>\n",
       "      <td>Patescibacteria</td>\n",
       "      <td>UBA1441contig_19953_12</td>\n",
       "      <td>UBA1441contig_19953_11</td>\n",
       "      <td>UBA1441contig_19953_10</td>\n",
       "    </tr>\n",
       "    <tr>\n",
       "      <th>380</th>\n",
       "      <td>external UBA1558</td>\n",
       "      <td>Patescibacteria</td>\n",
       "      <td>UBA1558contig_16814_6</td>\n",
       "      <td>UBA1558contig_16814_5</td>\n",
       "      <td>UBA1558contig_16814_4</td>\n",
       "    </tr>\n",
       "  </tbody>\n",
       "</table>\n",
       "</div>"
      ],
      "text/plain": [
       "                                                   bin        final_tax  \\\n",
       "5                                       GWA2_OD1_42_15   Kuenenbacteria   \n",
       "35                                      GWC2_OD1_39_14    Parcubacteria   \n",
       "39                                      GWA2_OD1_40_23    Parcubacteria   \n",
       "177  Candidatus Kuenenbacteria bacterium RIFCSPHIGH...   Kuenenbacteria   \n",
       "187  Candidatus Kuenenbacteria bacterium RIFCSPHIGH...   Kuenenbacteria   \n",
       "203  Candidatus Kuenenbacteria bacterium RIFCSPLOWO...   Kuenenbacteria   \n",
       "215  Candidatus Kuenenbacteria bacterium RIFCSPLOWO...   Kuenenbacteria   \n",
       "238        CG1_02_FULL_Parcubacteria_OD1_37_51_curated    Parcubacteria   \n",
       "251                      CG2_30_FULL_CPR_37_22_curated          unknown   \n",
       "379                                   external UBA1441  Patescibacteria   \n",
       "380                                   external UBA1558  Patescibacteria   \n",
       "\n",
       "                                             deoA_gene  \\\n",
       "5                                gwa2_scaffold_11482_4   \n",
       "35                                gwc2_scaffold_633_22   \n",
       "39                                gwa2_scaffold_913_22   \n",
       "177  RIFCSPHIGHO2_02_FULL_OD1_42_29_rifcsphigho2_02...   \n",
       "187  RIFCSPHIGHO2_12_FULL_OD1_42_14_rifcsphigho2_12...   \n",
       "203  RIFCSPLOWO2_02_FULL_OD1_42_16_rifcsplowo2_02_s...   \n",
       "215  RIFCSPLOWO2_12_FULL_OD1_42_13_rifcsplowo2_12_s...   \n",
       "238                          cg1_0.2_scaffold_3774_c_6   \n",
       "251                          cg2_3.0_scaffold_3725_c_6   \n",
       "379                             UBA1441contig_19953_12   \n",
       "380                              UBA1558contig_16814_6   \n",
       "\n",
       "                                                  gene  \\\n",
       "5                                gwa2_scaffold_11482_5   \n",
       "35                                gwc2_scaffold_633_23   \n",
       "39                                gwa2_scaffold_913_23   \n",
       "177  RIFCSPHIGHO2_02_FULL_OD1_42_29_rifcsphigho2_02...   \n",
       "187  RIFCSPHIGHO2_12_FULL_OD1_42_14_rifcsphigho2_12...   \n",
       "203  RIFCSPLOWO2_02_FULL_OD1_42_16_rifcsplowo2_02_s...   \n",
       "215  RIFCSPLOWO2_12_FULL_OD1_42_13_rifcsplowo2_12_s...   \n",
       "238                          cg1_0.2_scaffold_3774_c_7   \n",
       "251                          cg2_3.0_scaffold_3725_c_7   \n",
       "379                             UBA1441contig_19953_11   \n",
       "380                              UBA1558contig_16814_5   \n",
       "\n",
       "                                             e2b2_gene  \n",
       "5                                gwa2_scaffold_11482_6  \n",
       "35                                gwc2_scaffold_633_24  \n",
       "39                                gwa2_scaffold_913_24  \n",
       "177  RIFCSPHIGHO2_02_FULL_OD1_42_29_rifcsphigho2_02...  \n",
       "187  RIFCSPHIGHO2_12_FULL_OD1_42_14_rifcsphigho2_12...  \n",
       "203  RIFCSPLOWO2_02_FULL_OD1_42_16_rifcsplowo2_02_s...  \n",
       "215  RIFCSPLOWO2_12_FULL_OD1_42_13_rifcsplowo2_12_s...  \n",
       "238                          cg1_0.2_scaffold_3774_c_8  \n",
       "251                          cg2_3.0_scaffold_3725_c_8  \n",
       "379                             UBA1441contig_19953_10  \n",
       "380                              UBA1558contig_16814_4  "
      ]
     },
     "execution_count": 65,
     "metadata": {},
     "output_type": "execute_result"
    }
   ],
   "source": [
    "nsp_new[nsp_new.is_consecutive==True][[\"bin\",\"final_tax\",\"deoA_gene\", \"gene\",\"e2b2_gene\"]]"
   ]
  },
  {
   "cell_type": "markdown",
   "metadata": {},
   "source": [
    "### finally, examine genomic proximity"
   ]
  },
  {
   "cell_type": "markdown",
   "metadata": {},
   "source": [
    "To examine genomic proximity among pathway components on the same contig, we generated 'gene reports' describing the start position, end position, and strand for the RuBisCO, e2b2, and deoA genes being analyzed. The proximity of the genes on the same contig was calculated by taking the sum the lengths of the intervals between the genes (Methods)."
   ]
  },
  {
   "cell_type": "code",
   "execution_count": 66,
   "metadata": {},
   "outputs": [],
   "source": [
    "# function to process gene reports\n",
    "def process_gene_report(file):\n",
    "    \n",
    "    temp_dict = {}\n",
    "    \n",
    "    with open(file) as infile:\n",
    "        lines = infile.readlines()\n",
    "\n",
    "    for line in lines:\n",
    "        if \"No feature found\" not in line:\n",
    "            s = line.strip().split(\"\\t\")\n",
    "            temp_dict[s[0]] = {\"start\": s[1], \"end\":s[2], \"strand\":s[3]}\n",
    "            \n",
    "    df = pd.DataFrame.from_dict(temp_dict, orient=\"index\")\n",
    "    \n",
    "    return df.reset_index()\n",
    "\n",
    "# function to get distance between components\n",
    "def get_cluster_tightness(row):\n",
    "    \n",
    "    # shorthand\n",
    "    d = {\"e2b2_gene\": \"e2b2\", \"rubisco\": \"rub\", \"deoA_gene\": \"deo\"}\n",
    "    \n",
    "    if (row[\"order\"] != \"n/a\") and (row[\"rub_start\"] != \"None\"):\n",
    "        # first define gene positions\n",
    "        first, second, third = row[\"order\"].split(\", \")[0:3]\n",
    "        \n",
    "        interval_one = int(row[d[second] + \"_start\"]) - int(row[d[first] + \"_end\"])\n",
    "        interval_two = int(row[d[third] + \"_start\"]) - int(row[d[second] + \"_end\"])\n",
    "        \n",
    "        return float(interval_one + interval_two)\n",
    "        \n",
    "    else: return \"n/a\""
   ]
  },
  {
   "cell_type": "code",
   "execution_count": 67,
   "metadata": {},
   "outputs": [],
   "source": [
    "# read in data for internal genomes\n",
    "rub_in = process_gene_report(os.path.join(working_directory + \"/data/gene_reports/RUB.internal.report\"))\n",
    "# external genomes\n",
    "rub_ex = process_gene_report(os.path.join(working_directory + \"/data/gene_reports/RUB.external.report\"))\n",
    "rub = pd.concat([rub_in, rub_ex])\n",
    "rub.columns = [\"gene\"] + [(\"rub_\" + item) for item in list(rub_in.columns[1:])]\n",
    "\n",
    "deo_in = process_gene_report(os.path.join(working_directory + \"/data/gene_reports/DEO.internal.report\"))\n",
    "deo_ex = process_gene_report(os.path.join(working_directory + \"/data/gene_reports/DEO.external.report\"))\n",
    "deo = pd.concat([deo_in, deo_ex])\n",
    "deo.columns = [\"deoA_gene\"] + [(\"deo_\" + item) for item in list(rub_in.columns[1:])]\n",
    "\n",
    "e2b2_in = process_gene_report(os.path.join(working_directory + \"/data/gene_reports/E2B2.internal.report\"))\n",
    "e2b2_ex = process_gene_report(os.path.join(working_directory + \"/data/gene_reports/E2B2.external.report\"))\n",
    "e2b2 = pd.concat([e2b2_in, e2b2_ex])\n",
    "e2b2.columns = [\"e2b2_gene\"] + [(\"e2b2_\" + item) for item in list(rub_in.columns[1:])]\n",
    "\n",
    "# merge these data with existing df\n",
    "temp1 = pd.merge(nsp_new, rub, on=\"gene\", how=\"left\")\n",
    "temp2 = pd.merge(temp1, deo, on=\"deoA_gene\", how=\"left\")\n",
    "temp3 = pd.merge(temp2, e2b2, on=\"e2b2_gene\", how=\"left\")\n",
    "nsp_final = temp3.fillna(\"None\").drop_duplicates()\n",
    "# apply the function\n",
    "nsp_final[\"tightness\"] = nsp_final.apply(get_cluster_tightness, axis=1)"
   ]
  },
  {
   "cell_type": "markdown",
   "metadata": {},
   "source": [
    "Plot distribution of pathway tightness/proximity."
   ]
  },
  {
   "cell_type": "code",
   "execution_count": null,
   "metadata": {},
   "outputs": [],
   "source": [
    "nsp_temp = nsp_final[nsp_final.tightness != \"n/a\"]\n",
    "plt.figure(figsize=(10,3))\n",
    "sns.distplot(list(nsp_temp[\"tightness\"]), 50)\n",
    "plt.title(\"NSP tightness\")\n",
    "plt.show()"
   ]
  },
  {
   "cell_type": "markdown",
   "metadata": {},
   "source": [
    "Now, lets break this down by RuBisCO Form."
   ]
  },
  {
   "cell_type": "markdown",
   "metadata": {},
   "source": [
    "### figure 3 - proximity of AMP components for Form III-c RuBisCO"
   ]
  },
  {
   "cell_type": "code",
   "execution_count": 69,
   "metadata": {
    "scrolled": true
   },
   "outputs": [
    {
     "data": {
      "image/png": "[encoded data removed]",
      "text/plain": [
       "<Figure size 720x324 with 1 Axes>"
      ]
     },
     "metadata": {},
     "output_type": "display_data"
    },
    {
     "data": {
      "image/png": "[encoded data removed]",
      "text/plain": [
       "<Figure size 360x324 with 1 Axes>"
      ]
     },
     "metadata": {},
     "output_type": "display_data"
    }
   ],
   "source": [
    "# subset types we want to plot\n",
    "nsp_sub = nsp_final[(nsp_final.tightness != \"n/a\") & (nsp_final.type != \"unknown\")]\n",
    "nsp_sub2 = nsp_sub[(nsp_sub.tightness < 1000000)]\n",
    "# do some re-arrangment\n",
    "x = list(nsp_sub2[\"tightness\"])\n",
    "y = list(nsp_sub2[\"type\"])\n",
    "xy = pd.DataFrame(x,y)\n",
    "xy[\"y\"] = xy.index\n",
    "xy.columns = [\"x\",\"y\"]\n",
    "\n",
    "# plot tightness by type \n",
    "plt.figure(figsize=(10,4.5))\n",
    "g = sns.boxplot(x=\"x\", y= \"y\",data=xy,color=\"lightblue\", linewidth=0.5)#, ax=axs[0])\n",
    "sns.stripplot(x=\"tightness\", y=\"type\", data=nsp_sub2, jitter=True, color=\"black\")#, ax=axs[0])\n",
    "plt.xticks(rotation=60, ha=\"center\", fontsize=12)\n",
    "plt.yticks(fontsize=12)\n",
    "g.set(xscale=\"log\")\n",
    "plt.savefig(os.path.join(working_directory + \"/images/fig_3a.svg\"), format=\"svg\")\n",
    "\n",
    "# read in internal contig lengths\n",
    "int_scaf_df = pd.read_table(os.path.join(working_directory + \"/data/scaffold_info/ggk_contigsize.txt\"), header=None)\n",
    "# read in external contig lengths\n",
    "ext_scaf_df = pd.read_table(os.path.join(working_directory + \"/data/scaffold_info/all_external_scaffold.info\"), header=None)\n",
    "# and concatenate\n",
    "scaf_df = pd.concat([int_scaf_df, ext_scaf_df], axis=0)\n",
    "scaf_df.columns = [\"gene_scaffold\", \"scaffold_len\"]\n",
    "# merge with df\n",
    "nsp_final[\"gene_scaffold\"] = nsp_final[\"gene\"].apply(lambda x: scaffold(x))\n",
    "nsp_x = nsp_final[nsp_final.type.isin(list(set(nsp_sub2[\"type\"])))][[\"bin\", \"gene\", \"final_tax\", \"type\", \"gene_scaffold\"]]\n",
    "nsp_x2 = pd.merge(nsp_x, scaf_df, on=\"gene_scaffold\", how=\"left\")\n",
    "\n",
    "# now plot scaffold length by type \n",
    "plt.figure(figsize=(5,4.5))\n",
    "p = sns.boxplot(x=\"scaffold_len\", y= \"type\",data=nsp_x2, orient=\"b\", color=\"lightblue\", order=[\"II/III\", \"III-c\", \"III-like\",\"III-b\"], linewidth=0.5)#, ax=axs[1])\n",
    "sns.stripplot(x=\"scaffold_len\", y=\"type\", data=nsp_x2, jitter=True, color=\"black\", alpha=0.3, order=[\"II/III\", \"III-c\", \"III-like\",\"III-b\"])\n",
    "plt.xlabel(\"Scaffold Length (bp)\")\n",
    "plt.ylabel(\"\")\n",
    "p.set(xscale=\"log\")\n",
    "plt.xticks(rotation=60, ha=\"center\", fontsize=12)\n",
    "plt.yticks(fontsize=12)\n",
    "plt.savefig(os.path.join(working_directory + \"/images/figure_3b.svg\"), format=\"svg\")"
   ]
  },
  {
   "cell_type": "markdown",
   "metadata": {},
   "source": [
    "This plot show us that Form III-c rubisco types have more AMP pathways on a single contig, and that those pathways are generally are closer together (save for a few bizarre external genomes). However, all genomes with AMP pathway had similar median assembled contig lengths."
   ]
  },
  {
   "cell_type": "markdown",
   "metadata": {},
   "source": [
    "### investigating rubisco fusions - Figure S3"
   ]
  },
  {
   "cell_type": "markdown",
   "metadata": {},
   "source": [
    "We also want to examine cases where RuBisCO is fused to one of the other AMP pathway components. Candidate fusion genes were identified based on protein length and subsequently verfied with NCBI blastp."
   ]
  },
  {
   "cell_type": "code",
   "execution_count": 70,
   "metadata": {},
   "outputs": [
    {
     "data": {
      "text/html": [
       "<div>\n",
       "<style scoped>\n",
       "    .dataframe tbody tr th:only-of-type {\n",
       "        vertical-align: middle;\n",
       "    }\n",
       "\n",
       "    .dataframe tbody tr th {\n",
       "        vertical-align: top;\n",
       "    }\n",
       "\n",
       "    .dataframe thead th {\n",
       "        text-align: right;\n",
       "    }\n",
       "</style>\n",
       "<table border=\"1\" class=\"dataframe\">\n",
       "  <thead>\n",
       "    <tr style=\"text-align: right;\">\n",
       "      <th></th>\n",
       "      <th>bin</th>\n",
       "      <th>gene</th>\n",
       "      <th>final_tax</th>\n",
       "      <th>type</th>\n",
       "    </tr>\n",
       "  </thead>\n",
       "  <tbody>\n",
       "    <tr>\n",
       "      <th>117</th>\n",
       "      <td>MOL_16ft_UNK</td>\n",
       "      <td>mol-32-1605-030446_1_Gottesmanbacteria</td>\n",
       "      <td>Gottesmanbacteria</td>\n",
       "      <td>III-c</td>\n",
       "    </tr>\n",
       "    <tr>\n",
       "      <th>126</th>\n",
       "      <td>CG22_combo_CG10-13_8_21_14_all_Parcubacteria_3...</td>\n",
       "      <td>CG22_combo_CG10-13_8_21_14_all_scaffold_27032_...</td>\n",
       "      <td>Parcubacteria</td>\n",
       "      <td>III-c</td>\n",
       "    </tr>\n",
       "    <tr>\n",
       "      <th>273</th>\n",
       "      <td>GWC2_OP11_39_8_plus</td>\n",
       "      <td>gwc2_scaffold_9210_4</td>\n",
       "      <td>Gottesmanbacteria</td>\n",
       "      <td>III-c</td>\n",
       "    </tr>\n",
       "    <tr>\n",
       "      <th>555</th>\n",
       "      <td>external Microgenomates bacterium JGI CrystG A...</td>\n",
       "      <td>img_2698597071_3</td>\n",
       "      <td>Microgenomates</td>\n",
       "      <td>III-c</td>\n",
       "    </tr>\n",
       "  </tbody>\n",
       "</table>\n",
       "</div>"
      ],
      "text/plain": [
       "                                                   bin  \\\n",
       "117                                       MOL_16ft_UNK   \n",
       "126  CG22_combo_CG10-13_8_21_14_all_Parcubacteria_3...   \n",
       "273                                GWC2_OP11_39_8_plus   \n",
       "555  external Microgenomates bacterium JGI CrystG A...   \n",
       "\n",
       "                                                  gene          final_tax  \\\n",
       "117             mol-32-1605-030446_1_Gottesmanbacteria  Gottesmanbacteria   \n",
       "126  CG22_combo_CG10-13_8_21_14_all_scaffold_27032_...      Parcubacteria   \n",
       "273                               gwc2_scaffold_9210_4  Gottesmanbacteria   \n",
       "555                                   img_2698597071_3     Microgenomates   \n",
       "\n",
       "      type  \n",
       "117  III-c  \n",
       "126  III-c  \n",
       "273  III-c  \n",
       "555  III-c  "
      ]
     },
     "execution_count": 70,
     "metadata": {},
     "output_type": "execute_result"
    }
   ],
   "source": [
    "fusions = [row.strip() for row in open(os.path.join(working_directory + \"/data/candidate_fusions.names\"))]\n",
    "data3[data3[\"gene\"].isin(fusions)][[\"bin\",\"gene\", \"final_tax\", \"type\"]]"
   ]
  },
  {
   "cell_type": "code",
   "execution_count": 71,
   "metadata": {},
   "outputs": [
    {
     "data": {
      "text/html": [
       "<div>\n",
       "<style scoped>\n",
       "    .dataframe tbody tr th:only-of-type {\n",
       "        vertical-align: middle;\n",
       "    }\n",
       "\n",
       "    .dataframe tbody tr th {\n",
       "        vertical-align: top;\n",
       "    }\n",
       "\n",
       "    .dataframe thead th {\n",
       "        text-align: right;\n",
       "    }\n",
       "</style>\n",
       "<table border=\"1\" class=\"dataframe\">\n",
       "  <thead>\n",
       "    <tr style=\"text-align: right;\">\n",
       "      <th></th>\n",
       "      <th>bin</th>\n",
       "      <th>gene</th>\n",
       "      <th>final_tax</th>\n",
       "      <th>type</th>\n",
       "    </tr>\n",
       "  </thead>\n",
       "  <tbody>\n",
       "    <tr>\n",
       "      <th>32</th>\n",
       "      <td>GWA2_OP11_41_12</td>\n",
       "      <td>gwa2_scaffold_5171_26</td>\n",
       "      <td>Gottesmanbacteria</td>\n",
       "      <td>III-c</td>\n",
       "    </tr>\n",
       "    <tr>\n",
       "      <th>36</th>\n",
       "      <td>GWC2_OP11_39_8_plus</td>\n",
       "      <td>gwc2_scaffold_9210_4</td>\n",
       "      <td>Gottesmanbacteria</td>\n",
       "      <td>III-c</td>\n",
       "    </tr>\n",
       "    <tr>\n",
       "      <th>345</th>\n",
       "      <td>external Microgenomates bacterium JGI CrystG A...</td>\n",
       "      <td>img_2698597071_3</td>\n",
       "      <td>Microgenomates</td>\n",
       "      <td>III-c</td>\n",
       "    </tr>\n",
       "  </tbody>\n",
       "</table>\n",
       "</div>"
      ],
      "text/plain": [
       "                                                   bin                   gene  \\\n",
       "32                                     GWA2_OP11_41_12  gwa2_scaffold_5171_26   \n",
       "36                                 GWC2_OP11_39_8_plus   gwc2_scaffold_9210_4   \n",
       "345  external Microgenomates bacterium JGI CrystG A...       img_2698597071_3   \n",
       "\n",
       "             final_tax   type  \n",
       "32   Gottesmanbacteria  III-c  \n",
       "36   Gottesmanbacteria  III-c  \n",
       "345     Microgenomates  III-c  "
      ]
     },
     "execution_count": 71,
     "metadata": {},
     "output_type": "execute_result"
    }
   ],
   "source": [
    "# if not in data3...\n",
    "nsp_final[nsp_final[\"gene\"].isin(fusions)][[\"bin\",\"gene\", \"final_tax\", \"type\"]]"
   ]
  },
  {
   "cell_type": "markdown",
   "metadata": {},
   "source": [
    "We can visualize these genes in comparison to those from other types in the following plot..."
   ]
  },
  {
   "cell_type": "code",
   "execution_count": 72,
   "metadata": {},
   "outputs": [],
   "source": [
    "# make graph of rubisco lengths by tax/type\n",
    "# read in sequences and calculate lengths\n",
    "lengths = {}\n",
    "for record in SeqIO.parse(open(os.path.join(working_directory + \"/data/rubisco_final.drep99.wrefs.faa\")),\"fasta\"):\n",
    "    # retrieve genes names from seq header\n",
    "    desc = re.search(\"(\\S+).*\", record.description).group(1)\n",
    "    lengths[desc] = len(record.seq)\n",
    "len_df = pd.DataFrame.from_dict(lengths, orient=\"index\")\n",
    "len_df = len_df.reset_index()\n",
    "len_df.columns = [\"gene\", \"gene_length\"]\n",
    "len_info = pd.merge(final, len_df, on=\"gene\").fillna(\"None\")\n",
    "len_info_sub = len_info[~len_info.type.isin([\"II\", \"unknown\"])]"
   ]
  },
  {
   "cell_type": "code",
   "execution_count": 73,
   "metadata": {},
   "outputs": [
    {
     "data": {
      "image/png": "[encoded data removed]",
      "text/plain": [
       "<Figure size 1080x324 with 1 Axes>"
      ]
     },
     "metadata": {},
     "output_type": "display_data"
    }
   ],
   "source": [
    "plt.figure(figsize=(15,4.5))\n",
    "sns.violinplot(x=\"type\", y=\"gene_length\", data=len_info_sub,inner=None, color=\".8\")\n",
    "sns.stripplot(x=\"type\", y=\"gene_length\", data=len_info_sub, jitter=True, color=\"black\", alpha=0.5)\n",
    "plt.title(\"RuBisCO length by Form, min=200aa\", size=15)\n",
    "plt.xlabel(\"RuBisCO Form\", size=15)\n",
    "plt.ylabel(\"protein length (aa)\", size=15)\n",
    "plt.tick_params(labelsize=15)\n",
    "plt.savefig(os.path.join(working_directory + \"/images/fig_s3.svg\"), format=\"svg\")"
   ]
  },
  {
   "cell_type": "markdown",
   "metadata": {},
   "source": [
    "# PRK/CBB analysis"
   ]
  },
  {
   "cell_type": "markdown",
   "metadata": {},
   "source": [
    "<ul>\n",
    "    1.    [Main RuBisCO analysis](#main-rubisco-analysis)<br>\n",
    "    2.    [AMP Pathway analysis](#AMP-pathway-analysis)<br>\n",
    "    3.    [PRK/Calvin Cycle analysis](#PRK/CBB-analysis)\n",
    "</ul>"
   ]
  },
  {
   "cell_type": "markdown",
   "metadata": {},
   "source": [
    "Next, we analyzed the presence of PRK and other CBB cycle components in the binned genomes. To do this, we first need to extract hits to the enzymes in question from the KEGG HMM analysis."
   ]
  },
  {
   "cell_type": "markdown",
   "metadata": {},
   "source": [
    "#### generate data"
   ]
  },
  {
   "cell_type": "code",
   "execution_count": 74,
   "metadata": {},
   "outputs": [],
   "source": [
    "# define list of enzymes and kegg orthology numbers\n",
    "orthologies = {\n",
    "    \"02_Cal_phosphoglycerate_kinase\":[\"K00927\"],\n",
    "    \"03_Cal_GAP-DH\": [\"K00134\",\"K05298\",\"K00150\"],\n",
    "    \"04_Cal_TIM\": [\"K01803\"],\n",
    "    \"05_Cal_fructose-bisphosphate_aldolase\": [\"K01622\", \"K01623\",\"K01624\",\"K11645\",\"K16305\",\"K16306\"],\n",
    "    \"06_Cal_fructose-bisphosphatase\": [\"K01086\", \"K01622\", \"K02446\", \"K03841\", \"K04041\", \"K11532\"],\n",
    "    \"07_Cal_Transketolase\": [\"K00615\"],\n",
    "    \"08_Cal_Sedoheptulose-bisphosphatase\": [\"K01086\", \"K01100\", \"K11532\"],\n",
    "    \"09_Cal_Ribose-5-phosphate_isomerase\": [\"K01807\", \"K01808\"],\n",
    "    \"10_Cal_Ribulose-phosphate_3-epimerase\": [\"K01783\"],\n",
    "    \"11_Cal_Phosphoribulokinase\": [\"K00855\"],\n",
    "}"
   ]
  },
  {
   "cell_type": "code",
   "execution_count": 75,
   "metadata": {},
   "outputs": [],
   "source": [
    "os.mkdir(os.path.join(working_directory + \"/data/kegg_analysis/cbb_results/\"))"
   ]
  },
  {
   "cell_type": "code",
   "execution_count": 76,
   "metadata": {},
   "outputs": [],
   "source": [
    "# generate results files\n",
    "for step in orthologies:\n",
    "    for orthology in orthologies[step]:\n",
    "        call = \"grep -w \" + orthology + \" \" + working_directory + \"/data/kegg_analysis/all_proteins.keggHMM.report.tab | cut -f2,3 >> \" + working_directory + \"/data/kegg_analysis/cbb_results/\" + step + \".results\"\n",
    "        sp.call(call, shell=True)"
   ]
  },
  {
   "cell_type": "code",
   "execution_count": 77,
   "metadata": {},
   "outputs": [],
   "source": [
    "# now read these results into a df\n",
    "base = binned3\n",
    "path_nos = []\n",
    "\n",
    "for file in glob.glob(working_directory + \"/data/kegg_analysis/cbb_results/*\"):\n",
    "\n",
    "    path_no = os.path.basename(file).split(\"_\")[0]\n",
    "    path_nos.append(path_no)\n",
    "    \n",
    "    temp = []\n",
    "    for line in open(file).readlines():\n",
    "        temp.append({\"bin2\":line.split(\"\\t\")[0].strip(), \"gene\":line.split(\"\\t\")[1].strip()})\n",
    "    # turn into dict\n",
    "    temp_df = pd.DataFrame.from_dict(temp)\n",
    "    temp_df.columns = [\"bin2\", path_no]\n",
    "    # iteratively join with base\n",
    "    base = pd.merge(base, temp_df, how=\"left\", on=\"bin2\").fillna(\"None\").drop_duplicates()\n",
    "\n",
    "# reorder cols\n",
    "cols = list(base.columns[0:11]) + sorted(path_nos)\n",
    "base = base[cols]"
   ]
  },
  {
   "cell_type": "markdown",
   "metadata": {},
   "source": [
    "Now we have a dataframe attaching KEGG HMM hits to genome information. Next, we calculate CBB gene count..."
   ]
  },
  {
   "cell_type": "code",
   "execution_count": 78,
   "metadata": {},
   "outputs": [],
   "source": [
    "def is_complete(row):\n",
    "    \n",
    "    count=1\n",
    "    \n",
    "    for step in path_nos:\n",
    "        if row[step] != \"None\":\n",
    "            count+=1\n",
    "    return count\n",
    "\n",
    "def scaffoldize(row):\n",
    "    \n",
    "    scaffolds = []\n",
    "    for gene in genes:\n",
    "        \n",
    "        if row[gene] != \"None\":\n",
    "            scaffolds.append(re.search(\"(.+?)_[0-9]+$\", row[gene]).group(1))\n",
    "        else:\n",
    "            continue\n",
    "    \n",
    "    # this gives the number of genes on same scaf\n",
    "    return  len(set(scaffolds))   "
   ]
  },
  {
   "cell_type": "code",
   "execution_count": 79,
   "metadata": {},
   "outputs": [],
   "source": [
    "# apply functions\n",
    "base[\"gene_count\"] = base.apply(is_complete, axis=1)\n",
    "genes = [\"gene\"] + path_nos\n",
    "base[\"nscaf\"] = base.apply(scaffoldize, axis=1)"
   ]
  },
  {
   "cell_type": "markdown",
   "metadata": {},
   "source": [
    "Interesting genomes will have a high number of genes involved in CBB on the fewest number of scaffolds."
   ]
  },
  {
   "cell_type": "code",
   "execution_count": 80,
   "metadata": {},
   "outputs": [
    {
     "data": {
      "text/html": [
       "<div>\n",
       "<style scoped>\n",
       "    .dataframe tbody tr th:only-of-type {\n",
       "        vertical-align: middle;\n",
       "    }\n",
       "\n",
       "    .dataframe tbody tr th {\n",
       "        vertical-align: top;\n",
       "    }\n",
       "\n",
       "    .dataframe thead th {\n",
       "        text-align: right;\n",
       "    }\n",
       "</style>\n",
       "<table border=\"1\" class=\"dataframe\">\n",
       "  <thead>\n",
       "    <tr style=\"text-align: right;\">\n",
       "      <th></th>\n",
       "      <th>nscaf</th>\n",
       "      <th>final_tax</th>\n",
       "      <th>type</th>\n",
       "      <th>gene_count</th>\n",
       "      <th>bin</th>\n",
       "      <th>gene</th>\n",
       "      <th>02</th>\n",
       "      <th>03</th>\n",
       "      <th>04</th>\n",
       "      <th>05</th>\n",
       "      <th>06</th>\n",
       "      <th>07</th>\n",
       "      <th>08</th>\n",
       "      <th>09</th>\n",
       "      <th>10</th>\n",
       "      <th>11</th>\n",
       "    </tr>\n",
       "  </thead>\n",
       "  <tbody>\n",
       "    <tr>\n",
       "      <th>334</th>\n",
       "      <td>6</td>\n",
       "      <td>Microgenomates</td>\n",
       "      <td>III-like</td>\n",
       "      <td>10</td>\n",
       "      <td>OP11_GWA2_43_14</td>\n",
       "      <td>gwa2_scaffold_134_63</td>\n",
       "      <td>gwa2_scaffold_51_32</td>\n",
       "      <td>gwa2_scaffold_51_31</td>\n",
       "      <td>gwa2_scaffold_87_168</td>\n",
       "      <td>gwa2_scaffold_51_27</td>\n",
       "      <td>gwa2_scaffold_51_27</td>\n",
       "      <td>gwa2_scaffold_711_5</td>\n",
       "      <td>None</td>\n",
       "      <td>gwa2_scaffold_2703_6</td>\n",
       "      <td>gwa2_scaffold_711_4</td>\n",
       "      <td>gwa2_scaffold_760_5</td>\n",
       "    </tr>\n",
       "    <tr>\n",
       "      <th>345</th>\n",
       "      <td>6</td>\n",
       "      <td>Peregrinibacteria</td>\n",
       "      <td>II/III</td>\n",
       "      <td>10</td>\n",
       "      <td>PER_GWF2_39_17</td>\n",
       "      <td>gwf2_scaffold_2732_6</td>\n",
       "      <td>gwf2_scaffold_913_43</td>\n",
       "      <td>gwf2_scaffold_174_98</td>\n",
       "      <td>gwf2_scaffold_2411_19</td>\n",
       "      <td>gwf2_scaffold_174_99</td>\n",
       "      <td>None</td>\n",
       "      <td>gwf2_scaffold_207_61</td>\n",
       "      <td>gwf2_scaffold_174_97</td>\n",
       "      <td>gwf2_scaffold_207_58</td>\n",
       "      <td>gwf2_scaffold_207_57</td>\n",
       "      <td>gwf2_scaffold_1133_21</td>\n",
       "    </tr>\n",
       "    <tr>\n",
       "      <th>530</th>\n",
       "      <td>6</td>\n",
       "      <td>Gottesmanbacteria</td>\n",
       "      <td>III-like</td>\n",
       "      <td>10</td>\n",
       "      <td>Candidatus Gottesmanbacteria bacterium RIFCSPH...</td>\n",
       "      <td>RIFCSPHIGHO2_01_FULL_OP11_42_27_rifcsphigho2_0...</td>\n",
       "      <td>RIFCSPHIGHO2_01_FULL_OP11_42_27_rifcsphigho2_0...</td>\n",
       "      <td>RIFCSPHIGHO2_01_FULL_OP11_42_27_rifcsphigho2_0...</td>\n",
       "      <td>RIFCSPHIGHO2_01_FULL_OP11_42_27_rifcsphigho2_0...</td>\n",
       "      <td>RIFCSPHIGHO2_01_FULL_OP11_42_27_rifcsphigho2_0...</td>\n",
       "      <td>RIFCSPHIGHO2_01_FULL_OP11_42_27_rifcsphigho2_0...</td>\n",
       "      <td>RIFCSPHIGHO2_01_FULL_OP11_42_27_rifcsphigho2_0...</td>\n",
       "      <td>None</td>\n",
       "      <td>RIFCSPHIGHO2_01_FULL_OP11_42_27_rifcsphigho2_0...</td>\n",
       "      <td>RIFCSPHIGHO2_01_FULL_OP11_42_27_rifcsphigho2_0...</td>\n",
       "      <td>RIFCSPHIGHO2_01_FULL_OP11_42_27_rifcsphigho2_0...</td>\n",
       "    </tr>\n",
       "    <tr>\n",
       "      <th>543</th>\n",
       "      <td>6</td>\n",
       "      <td>Gottesmanbacteria</td>\n",
       "      <td>III-like</td>\n",
       "      <td>10</td>\n",
       "      <td>Candidatus Gottesmanbacteria bacterium RIFCSPH...</td>\n",
       "      <td>RIFCSPHIGHO2_12_FULL_OP11_40_13_rifcsphigho2_1...</td>\n",
       "      <td>RIFCSPHIGHO2_12_FULL_OP11_40_13_rifcsphigho2_1...</td>\n",
       "      <td>RIFCSPHIGHO2_12_FULL_OP11_40_13_rifcsphigho2_1...</td>\n",
       "      <td>RIFCSPHIGHO2_12_FULL_OP11_40_13_rifcsphigho2_1...</td>\n",
       "      <td>RIFCSPHIGHO2_12_FULL_OP11_40_13_rifcsphigho2_1...</td>\n",
       "      <td>RIFCSPHIGHO2_12_FULL_OP11_40_13_rifcsphigho2_1...</td>\n",
       "      <td>RIFCSPHIGHO2_12_FULL_OP11_40_13_rifcsphigho2_1...</td>\n",
       "      <td>None</td>\n",
       "      <td>RIFCSPHIGHO2_12_FULL_OP11_40_13_rifcsphigho2_1...</td>\n",
       "      <td>RIFCSPHIGHO2_12_FULL_OP11_40_13_rifcsphigho2_1...</td>\n",
       "      <td>RIFCSPHIGHO2_12_FULL_OP11_40_13_rifcsphigho2_1...</td>\n",
       "    </tr>\n",
       "    <tr>\n",
       "      <th>548</th>\n",
       "      <td>6</td>\n",
       "      <td>Gottesmanbacteria</td>\n",
       "      <td>III-like</td>\n",
       "      <td>10</td>\n",
       "      <td>Candidatus Gottesmanbacteria bacterium RIFCSPL...</td>\n",
       "      <td>RIFCSPLOWO2_01_FULL_OP11_42_22_rifcsplowo2_01_...</td>\n",
       "      <td>RIFCSPLOWO2_01_FULL_OP11_42_22_rifcsplowo2_01_...</td>\n",
       "      <td>RIFCSPLOWO2_01_FULL_OP11_42_22_rifcsplowo2_01_...</td>\n",
       "      <td>RIFCSPLOWO2_01_FULL_OP11_42_22_rifcsplowo2_01_...</td>\n",
       "      <td>RIFCSPLOWO2_01_FULL_OP11_42_22_rifcsplowo2_01_...</td>\n",
       "      <td>RIFCSPLOWO2_01_FULL_OP11_42_22_rifcsplowo2_01_...</td>\n",
       "      <td>RIFCSPLOWO2_01_FULL_OP11_42_22_rifcsplowo2_01_...</td>\n",
       "      <td>None</td>\n",
       "      <td>RIFCSPLOWO2_01_FULL_OP11_42_22_rifcsplowo2_01_...</td>\n",
       "      <td>RIFCSPLOWO2_01_FULL_OP11_42_22_rifcsplowo2_01_...</td>\n",
       "      <td>RIFCSPLOWO2_01_FULL_OP11_42_22_rifcsplowo2_01_...</td>\n",
       "    </tr>\n",
       "    <tr>\n",
       "      <th>555</th>\n",
       "      <td>6</td>\n",
       "      <td>Gottesmanbacteria</td>\n",
       "      <td>II/III</td>\n",
       "      <td>10</td>\n",
       "      <td>Candidatus Gottesmanbacteria bacterium RIFCSPL...</td>\n",
       "      <td>RIFCSPLOWO2_02_FULL_OP11_38_8_rifcsplowo2_02_s...</td>\n",
       "      <td>RIFCSPLOWO2_02_FULL_OP11_38_8_rifcsplowo2_02_s...</td>\n",
       "      <td>RIFCSPLOWO2_02_FULL_OP11_38_8_rifcsplowo2_02_s...</td>\n",
       "      <td>RIFCSPLOWO2_02_FULL_OP11_38_8_rifcsplowo2_02_s...</td>\n",
       "      <td>RIFCSPLOWO2_02_FULL_OP11_38_8_rifcsplowo2_02_s...</td>\n",
       "      <td>RIFCSPLOWO2_02_FULL_OP11_38_8_rifcsplowo2_02_s...</td>\n",
       "      <td>RIFCSPLOWO2_02_FULL_OP11_38_8_rifcsplowo2_02_s...</td>\n",
       "      <td>None</td>\n",
       "      <td>RIFCSPLOWO2_02_FULL_OP11_38_8_rifcsplowo2_02_s...</td>\n",
       "      <td>RIFCSPLOWO2_02_FULL_OP11_38_8_rifcsplowo2_02_s...</td>\n",
       "      <td>RIFCSPLOWO2_02_FULL_OP11_38_8_rifcsplowo2_02_s...</td>\n",
       "    </tr>\n",
       "    <tr>\n",
       "      <th>556</th>\n",
       "      <td>6</td>\n",
       "      <td>Gottesmanbacteria</td>\n",
       "      <td>II/III</td>\n",
       "      <td>10</td>\n",
       "      <td>Candidatus Gottesmanbacteria bacterium RIFCSPL...</td>\n",
       "      <td>RIFCSPLOWO2_02_FULL_OP11_38_8_rifcsplowo2_02_s...</td>\n",
       "      <td>RIFCSPLOWO2_02_FULL_OP11_38_8_rifcsplowo2_02_s...</td>\n",
       "      <td>RIFCSPLOWO2_02_FULL_OP11_38_8_rifcsplowo2_02_s...</td>\n",
       "      <td>RIFCSPLOWO2_02_FULL_OP11_38_8_rifcsplowo2_02_s...</td>\n",
       "      <td>RIFCSPLOWO2_02_FULL_OP11_38_8_rifcsplowo2_02_s...</td>\n",
       "      <td>RIFCSPLOWO2_02_FULL_OP11_38_8_rifcsplowo2_02_s...</td>\n",
       "      <td>RIFCSPLOWO2_02_FULL_OP11_38_8_rifcsplowo2_02_s...</td>\n",
       "      <td>None</td>\n",
       "      <td>RIFCSPLOWO2_02_FULL_OP11_38_8_rifcsplowo2_02_s...</td>\n",
       "      <td>RIFCSPLOWO2_02_FULL_OP11_38_8_rifcsplowo2_02_s...</td>\n",
       "      <td>RIFCSPLOWO2_02_FULL_OP11_38_8_rifcsplowo2_02_s...</td>\n",
       "    </tr>\n",
       "    <tr>\n",
       "      <th>559</th>\n",
       "      <td>6</td>\n",
       "      <td>Gottesmanbacteria</td>\n",
       "      <td>III-like</td>\n",
       "      <td>10</td>\n",
       "      <td>Candidatus Gottesmanbacteria bacterium RIFCSPL...</td>\n",
       "      <td>RIFCSPLOWO2_02_FULL_OP11_38_8_rifcsplowo2_02_s...</td>\n",
       "      <td>RIFCSPLOWO2_02_FULL_OP11_38_8_rifcsplowo2_02_s...</td>\n",
       "      <td>RIFCSPLOWO2_02_FULL_OP11_38_8_rifcsplowo2_02_s...</td>\n",
       "      <td>RIFCSPLOWO2_02_FULL_OP11_38_8_rifcsplowo2_02_s...</td>\n",
       "      <td>RIFCSPLOWO2_02_FULL_OP11_38_8_rifcsplowo2_02_s...</td>\n",
       "      <td>RIFCSPLOWO2_02_FULL_OP11_38_8_rifcsplowo2_02_s...</td>\n",
       "      <td>RIFCSPLOWO2_02_FULL_OP11_38_8_rifcsplowo2_02_s...</td>\n",
       "      <td>None</td>\n",
       "      <td>RIFCSPLOWO2_02_FULL_OP11_38_8_rifcsplowo2_02_s...</td>\n",
       "      <td>RIFCSPLOWO2_02_FULL_OP11_38_8_rifcsplowo2_02_s...</td>\n",
       "      <td>RIFCSPLOWO2_02_FULL_OP11_38_8_rifcsplowo2_02_s...</td>\n",
       "    </tr>\n",
       "    <tr>\n",
       "      <th>560</th>\n",
       "      <td>6</td>\n",
       "      <td>Gottesmanbacteria</td>\n",
       "      <td>III-like</td>\n",
       "      <td>10</td>\n",
       "      <td>Candidatus Gottesmanbacteria bacterium RIFCSPL...</td>\n",
       "      <td>RIFCSPLOWO2_02_FULL_OP11_38_8_rifcsplowo2_02_s...</td>\n",
       "      <td>RIFCSPLOWO2_02_FULL_OP11_38_8_rifcsplowo2_02_s...</td>\n",
       "      <td>RIFCSPLOWO2_02_FULL_OP11_38_8_rifcsplowo2_02_s...</td>\n",
       "      <td>RIFCSPLOWO2_02_FULL_OP11_38_8_rifcsplowo2_02_s...</td>\n",
       "      <td>RIFCSPLOWO2_02_FULL_OP11_38_8_rifcsplowo2_02_s...</td>\n",
       "      <td>RIFCSPLOWO2_02_FULL_OP11_38_8_rifcsplowo2_02_s...</td>\n",
       "      <td>RIFCSPLOWO2_02_FULL_OP11_38_8_rifcsplowo2_02_s...</td>\n",
       "      <td>None</td>\n",
       "      <td>RIFCSPLOWO2_02_FULL_OP11_38_8_rifcsplowo2_02_s...</td>\n",
       "      <td>RIFCSPLOWO2_02_FULL_OP11_38_8_rifcsplowo2_02_s...</td>\n",
       "      <td>RIFCSPLOWO2_02_FULL_OP11_38_8_rifcsplowo2_02_s...</td>\n",
       "    </tr>\n",
       "    <tr>\n",
       "      <th>561</th>\n",
       "      <td>6</td>\n",
       "      <td>Gottesmanbacteria</td>\n",
       "      <td>III-like</td>\n",
       "      <td>10</td>\n",
       "      <td>Candidatus Gottesmanbacteria bacterium RIFCSPL...</td>\n",
       "      <td>RIFCSPLOWO2_02_FULL_OP11_42_29_rifcsplowo2_02_...</td>\n",
       "      <td>RIFCSPLOWO2_02_FULL_OP11_42_29_rifcsplowo2_02_...</td>\n",
       "      <td>RIFCSPLOWO2_02_FULL_OP11_42_29_rifcsplowo2_02_...</td>\n",
       "      <td>RIFCSPLOWO2_02_FULL_OP11_42_29_rifcsplowo2_02_...</td>\n",
       "      <td>RIFCSPLOWO2_02_FULL_OP11_42_29_rifcsplowo2_02_...</td>\n",
       "      <td>RIFCSPLOWO2_02_FULL_OP11_42_29_rifcsplowo2_02_...</td>\n",
       "      <td>RIFCSPLOWO2_02_FULL_OP11_42_29_rifcsplowo2_02_...</td>\n",
       "      <td>None</td>\n",
       "      <td>RIFCSPLOWO2_02_FULL_OP11_42_29_rifcsplowo2_02_...</td>\n",
       "      <td>RIFCSPLOWO2_02_FULL_OP11_42_29_rifcsplowo2_02_...</td>\n",
       "      <td>RIFCSPLOWO2_02_FULL_OP11_42_29_rifcsplowo2_02_...</td>\n",
       "    </tr>\n",
       "    <tr>\n",
       "      <th>563</th>\n",
       "      <td>6</td>\n",
       "      <td>Gottesmanbacteria</td>\n",
       "      <td>III-like</td>\n",
       "      <td>10</td>\n",
       "      <td>Candidatus Gottesmanbacteria bacterium RIFCSPL...</td>\n",
       "      <td>RIFCSPLOWO2_12_FULL_OP11_42_10_rifcsplowo2_12_...</td>\n",
       "      <td>RIFCSPLOWO2_12_FULL_OP11_42_10_rifcsplowo2_12_...</td>\n",
       "      <td>RIFCSPLOWO2_12_FULL_OP11_42_10_rifcsplowo2_12_...</td>\n",
       "      <td>RIFCSPLOWO2_12_FULL_OP11_42_10_rifcsplowo2_12_...</td>\n",
       "      <td>RIFCSPLOWO2_12_FULL_OP11_42_10_rifcsplowo2_12_...</td>\n",
       "      <td>RIFCSPLOWO2_12_FULL_OP11_42_10_rifcsplowo2_12_...</td>\n",
       "      <td>RIFCSPLOWO2_12_FULL_OP11_42_10_rifcsplowo2_12_...</td>\n",
       "      <td>None</td>\n",
       "      <td>RIFCSPLOWO2_12_FULL_OP11_42_10_rifcsplowo2_12_...</td>\n",
       "      <td>RIFCSPLOWO2_12_FULL_OP11_42_10_rifcsplowo2_12_...</td>\n",
       "      <td>RIFCSPLOWO2_12_FULL_OP11_42_10_rifcsplowo2_12_...</td>\n",
       "    </tr>\n",
       "    <tr>\n",
       "      <th>602</th>\n",
       "      <td>6</td>\n",
       "      <td>Gottesmanbacteria</td>\n",
       "      <td>III-c</td>\n",
       "      <td>10</td>\n",
       "      <td>CG1_02_FULL_Gottesmanbakteria_OP11_37_22_curated</td>\n",
       "      <td>cg1_0.2_scaffold_3272_c_4</td>\n",
       "      <td>cg1_0.2_scaffold_1214_c_12</td>\n",
       "      <td>cg1_0.2_scaffold_1214_c_11</td>\n",
       "      <td>cg1_0.2_scaffold_2077_c_19</td>\n",
       "      <td>cg1_0.2_scaffold_1214_c_8</td>\n",
       "      <td>cg1_0.2_scaffold_1214_c_8</td>\n",
       "      <td>cg1_0.2_scaffold_26684_c_6</td>\n",
       "      <td>None</td>\n",
       "      <td>cg1_0.2_scaffold_3128_c_11</td>\n",
       "      <td>cg1_0.2_scaffold_3128_c_10</td>\n",
       "      <td>cg1_0.2_scaffold_6238_c_4</td>\n",
       "    </tr>\n",
       "    <tr>\n",
       "      <th>603</th>\n",
       "      <td>5</td>\n",
       "      <td>Gottesmanbacteria</td>\n",
       "      <td>III-c</td>\n",
       "      <td>10</td>\n",
       "      <td>CG1_02_FULL_Gottesmanbakteria_OP11_37_22_curated</td>\n",
       "      <td>cg1_0.2_scaffold_3272_c_4</td>\n",
       "      <td>cg1_0.2_scaffold_1214_c_12</td>\n",
       "      <td>cg1_0.2_scaffold_1214_c_11</td>\n",
       "      <td>cg1_0.2_scaffold_2077_c_19</td>\n",
       "      <td>cg1_0.2_scaffold_1214_c_8</td>\n",
       "      <td>cg1_0.2_scaffold_1214_c_8</td>\n",
       "      <td>cg1_0.2_scaffold_3128_c_9</td>\n",
       "      <td>None</td>\n",
       "      <td>cg1_0.2_scaffold_3128_c_11</td>\n",
       "      <td>cg1_0.2_scaffold_3128_c_10</td>\n",
       "      <td>cg1_0.2_scaffold_6238_c_4</td>\n",
       "    </tr>\n",
       "    <tr>\n",
       "      <th>631</th>\n",
       "      <td>6</td>\n",
       "      <td>Gottesmanbacteria</td>\n",
       "      <td>III-c</td>\n",
       "      <td>10</td>\n",
       "      <td>CG08_land_8_20_14_0_20_CG_Gottesman_01_37_37__...</td>\n",
       "      <td>CG08_land_8_20_14_0.20_scaffold_7880_4</td>\n",
       "      <td>CG08_land_8_20_14_0.20_scaffold_3027_2</td>\n",
       "      <td>CG08_land_8_20_14_0.20_scaffold_10503_6</td>\n",
       "      <td>CG08_land_8_20_14_0.20_scaffold_3061_8</td>\n",
       "      <td>CG08_land_8_20_14_0.20_scaffold_10503_3</td>\n",
       "      <td>CG08_land_8_20_14_0.20_scaffold_10503_3</td>\n",
       "      <td>CG08_land_8_20_14_0.20_scaffold_15186_6</td>\n",
       "      <td>None</td>\n",
       "      <td>CG08_land_8_20_14_0.20_scaffold_15186_4</td>\n",
       "      <td>CG08_land_8_20_14_0.20_scaffold_15186_5</td>\n",
       "      <td>CG08_land_8_20_14_0.20_scaffold_40937_4</td>\n",
       "    </tr>\n",
       "    <tr>\n",
       "      <th>632</th>\n",
       "      <td>6</td>\n",
       "      <td>Gottesmanbacteria</td>\n",
       "      <td>III-c</td>\n",
       "      <td>10</td>\n",
       "      <td>CG08_land_8_20_14_0_20_CG_Gottesman_01_37_37__...</td>\n",
       "      <td>CG08_land_8_20_14_0.20_scaffold_7880_4</td>\n",
       "      <td>CG08_land_8_20_14_0.20_scaffold_3027_2</td>\n",
       "      <td>CG08_land_8_20_14_0.20_scaffold_3027_1</td>\n",
       "      <td>CG08_land_8_20_14_0.20_scaffold_3061_8</td>\n",
       "      <td>CG08_land_8_20_14_0.20_scaffold_10503_3</td>\n",
       "      <td>CG08_land_8_20_14_0.20_scaffold_10503_3</td>\n",
       "      <td>CG08_land_8_20_14_0.20_scaffold_15186_6</td>\n",
       "      <td>None</td>\n",
       "      <td>CG08_land_8_20_14_0.20_scaffold_15186_4</td>\n",
       "      <td>CG08_land_8_20_14_0.20_scaffold_15186_5</td>\n",
       "      <td>CG08_land_8_20_14_0.20_scaffold_40937_4</td>\n",
       "    </tr>\n",
       "    <tr>\n",
       "      <th>633</th>\n",
       "      <td>6</td>\n",
       "      <td>Gottesmanbacteria</td>\n",
       "      <td>III-c</td>\n",
       "      <td>10</td>\n",
       "      <td>CG07_land_8_20_14_0_80_CG_Gottesman_01_37_13__...</td>\n",
       "      <td>CG07_land_8_20_14_0.80_scaffold_2172_5</td>\n",
       "      <td>CG07_land_8_20_14_0.80_scaffold_2964_2</td>\n",
       "      <td>CG07_land_8_20_14_0.80_scaffold_2964_1</td>\n",
       "      <td>CG07_land_8_20_14_0.80_scaffold_872_17</td>\n",
       "      <td>CG07_land_8_20_14_0.80_scaffold_21601_3</td>\n",
       "      <td>CG07_land_8_20_14_0.80_scaffold_21601_3</td>\n",
       "      <td>CG07_land_8_20_14_0.80_scaffold_2382_12</td>\n",
       "      <td>None</td>\n",
       "      <td>CG07_land_8_20_14_0.80_scaffold_2382_10</td>\n",
       "      <td>CG07_land_8_20_14_0.80_scaffold_2382_11</td>\n",
       "      <td>CG07_land_8_20_14_0.80_scaffold_16911_3</td>\n",
       "    </tr>\n",
       "    <tr>\n",
       "      <th>637</th>\n",
       "      <td>5</td>\n",
       "      <td>Gottesmanbacteria</td>\n",
       "      <td>III-c</td>\n",
       "      <td>10</td>\n",
       "      <td>CG03_land_8_20_14_0_80_cor_CG_Gottesman_01_37_...</td>\n",
       "      <td>CG03_land_8_20_14_0.80_scaffold_1547_6</td>\n",
       "      <td>CG03_land_8_20_14_0.80_scaffold_3760_6</td>\n",
       "      <td>CG03_land_8_20_14_0.80_scaffold_3760_5</td>\n",
       "      <td>CG03_land_8_20_14_0.80_scaffold_601_18</td>\n",
       "      <td>CG03_land_8_20_14_0.80_scaffold_3760_2</td>\n",
       "      <td>CG03_land_8_20_14_0.80_scaffold_3760_2</td>\n",
       "      <td>CG03_land_8_20_14_0.80_scaffold_1664_5</td>\n",
       "      <td>None</td>\n",
       "      <td>CG03_land_8_20_14_0.80_scaffold_1664_7</td>\n",
       "      <td>CG03_land_8_20_14_0.80_scaffold_1664_6</td>\n",
       "      <td>CG03_land_8_20_14_0.80_scaffold_12067_2</td>\n",
       "    </tr>\n",
       "    <tr>\n",
       "      <th>639</th>\n",
       "      <td>6</td>\n",
       "      <td>Gottesmanbacteria</td>\n",
       "      <td>III-c</td>\n",
       "      <td>10</td>\n",
       "      <td>CG_4_10_14_0_2_um_filter_CG_Gottesman_01_37_9_...</td>\n",
       "      <td>CG_4_10_14_0.2_scaffold_3233_4</td>\n",
       "      <td>CG_4_10_14_0.2_scaffold_9248_4</td>\n",
       "      <td>CG_4_10_14_0.2_scaffold_9248_5</td>\n",
       "      <td>CG_4_10_14_0.2_scaffold_789_9</td>\n",
       "      <td>CG_4_10_14_0.2_scaffold_3101_3</td>\n",
       "      <td>CG_4_10_14_0.2_scaffold_3101_3</td>\n",
       "      <td>CG_4_10_14_0.2_scaffold_2018_12</td>\n",
       "      <td>None</td>\n",
       "      <td>CG_4_10_14_0.2_scaffold_2018_10</td>\n",
       "      <td>CG_4_10_14_0.2_scaffold_2018_11</td>\n",
       "      <td>CG_4_10_14_0.2_scaffold_9886_3</td>\n",
       "    </tr>\n",
       "  </tbody>\n",
       "</table>\n",
       "</div>"
      ],
      "text/plain": [
       "     nscaf          final_tax      type  gene_count  \\\n",
       "334      6     Microgenomates  III-like          10   \n",
       "345      6  Peregrinibacteria    II/III          10   \n",
       "530      6  Gottesmanbacteria  III-like          10   \n",
       "543      6  Gottesmanbacteria  III-like          10   \n",
       "548      6  Gottesmanbacteria  III-like          10   \n",
       "555      6  Gottesmanbacteria    II/III          10   \n",
       "556      6  Gottesmanbacteria    II/III          10   \n",
       "559      6  Gottesmanbacteria  III-like          10   \n",
       "560      6  Gottesmanbacteria  III-like          10   \n",
       "561      6  Gottesmanbacteria  III-like          10   \n",
       "563      6  Gottesmanbacteria  III-like          10   \n",
       "602      6  Gottesmanbacteria     III-c          10   \n",
       "603      5  Gottesmanbacteria     III-c          10   \n",
       "631      6  Gottesmanbacteria     III-c          10   \n",
       "632      6  Gottesmanbacteria     III-c          10   \n",
       "633      6  Gottesmanbacteria     III-c          10   \n",
       "637      5  Gottesmanbacteria     III-c          10   \n",
       "639      6  Gottesmanbacteria     III-c          10   \n",
       "\n",
       "                                                   bin  \\\n",
       "334                                    OP11_GWA2_43_14   \n",
       "345                                     PER_GWF2_39_17   \n",
       "530  Candidatus Gottesmanbacteria bacterium RIFCSPH...   \n",
       "543  Candidatus Gottesmanbacteria bacterium RIFCSPH...   \n",
       "548  Candidatus Gottesmanbacteria bacterium RIFCSPL...   \n",
       "555  Candidatus Gottesmanbacteria bacterium RIFCSPL...   \n",
       "556  Candidatus Gottesmanbacteria bacterium RIFCSPL...   \n",
       "559  Candidatus Gottesmanbacteria bacterium RIFCSPL...   \n",
       "560  Candidatus Gottesmanbacteria bacterium RIFCSPL...   \n",
       "561  Candidatus Gottesmanbacteria bacterium RIFCSPL...   \n",
       "563  Candidatus Gottesmanbacteria bacterium RIFCSPL...   \n",
       "602   CG1_02_FULL_Gottesmanbakteria_OP11_37_22_curated   \n",
       "603   CG1_02_FULL_Gottesmanbakteria_OP11_37_22_curated   \n",
       "631  CG08_land_8_20_14_0_20_CG_Gottesman_01_37_37__...   \n",
       "632  CG08_land_8_20_14_0_20_CG_Gottesman_01_37_37__...   \n",
       "633  CG07_land_8_20_14_0_80_CG_Gottesman_01_37_13__...   \n",
       "637  CG03_land_8_20_14_0_80_cor_CG_Gottesman_01_37_...   \n",
       "639  CG_4_10_14_0_2_um_filter_CG_Gottesman_01_37_9_...   \n",
       "\n",
       "                                                  gene  \\\n",
       "334                               gwa2_scaffold_134_63   \n",
       "345                               gwf2_scaffold_2732_6   \n",
       "530  RIFCSPHIGHO2_01_FULL_OP11_42_27_rifcsphigho2_0...   \n",
       "543  RIFCSPHIGHO2_12_FULL_OP11_40_13_rifcsphigho2_1...   \n",
       "548  RIFCSPLOWO2_01_FULL_OP11_42_22_rifcsplowo2_01_...   \n",
       "555  RIFCSPLOWO2_02_FULL_OP11_38_8_rifcsplowo2_02_s...   \n",
       "556  RIFCSPLOWO2_02_FULL_OP11_38_8_rifcsplowo2_02_s...   \n",
       "559  RIFCSPLOWO2_02_FULL_OP11_38_8_rifcsplowo2_02_s...   \n",
       "560  RIFCSPLOWO2_02_FULL_OP11_38_8_rifcsplowo2_02_s...   \n",
       "561  RIFCSPLOWO2_02_FULL_OP11_42_29_rifcsplowo2_02_...   \n",
       "563  RIFCSPLOWO2_12_FULL_OP11_42_10_rifcsplowo2_12_...   \n",
       "602                          cg1_0.2_scaffold_3272_c_4   \n",
       "603                          cg1_0.2_scaffold_3272_c_4   \n",
       "631             CG08_land_8_20_14_0.20_scaffold_7880_4   \n",
       "632             CG08_land_8_20_14_0.20_scaffold_7880_4   \n",
       "633             CG07_land_8_20_14_0.80_scaffold_2172_5   \n",
       "637             CG03_land_8_20_14_0.80_scaffold_1547_6   \n",
       "639                     CG_4_10_14_0.2_scaffold_3233_4   \n",
       "\n",
       "                                                    02  \\\n",
       "334                                gwa2_scaffold_51_32   \n",
       "345                               gwf2_scaffold_913_43   \n",
       "530  RIFCSPHIGHO2_01_FULL_OP11_42_27_rifcsphigho2_0...   \n",
       "543  RIFCSPHIGHO2_12_FULL_OP11_40_13_rifcsphigho2_1...   \n",
       "548  RIFCSPLOWO2_01_FULL_OP11_42_22_rifcsplowo2_01_...   \n",
       "555  RIFCSPLOWO2_02_FULL_OP11_38_8_rifcsplowo2_02_s...   \n",
       "556  RIFCSPLOWO2_02_FULL_OP11_38_8_rifcsplowo2_02_s...   \n",
       "559  RIFCSPLOWO2_02_FULL_OP11_38_8_rifcsplowo2_02_s...   \n",
       "560  RIFCSPLOWO2_02_FULL_OP11_38_8_rifcsplowo2_02_s...   \n",
       "561  RIFCSPLOWO2_02_FULL_OP11_42_29_rifcsplowo2_02_...   \n",
       "563  RIFCSPLOWO2_12_FULL_OP11_42_10_rifcsplowo2_12_...   \n",
       "602                         cg1_0.2_scaffold_1214_c_12   \n",
       "603                         cg1_0.2_scaffold_1214_c_12   \n",
       "631             CG08_land_8_20_14_0.20_scaffold_3027_2   \n",
       "632             CG08_land_8_20_14_0.20_scaffold_3027_2   \n",
       "633             CG07_land_8_20_14_0.80_scaffold_2964_2   \n",
       "637             CG03_land_8_20_14_0.80_scaffold_3760_6   \n",
       "639                     CG_4_10_14_0.2_scaffold_9248_4   \n",
       "\n",
       "                                                    03  \\\n",
       "334                                gwa2_scaffold_51_31   \n",
       "345                               gwf2_scaffold_174_98   \n",
       "530  RIFCSPHIGHO2_01_FULL_OP11_42_27_rifcsphigho2_0...   \n",
       "543  RIFCSPHIGHO2_12_FULL_OP11_40_13_rifcsphigho2_1...   \n",
       "548  RIFCSPLOWO2_01_FULL_OP11_42_22_rifcsplowo2_01_...   \n",
       "555  RIFCSPLOWO2_02_FULL_OP11_38_8_rifcsplowo2_02_s...   \n",
       "556  RIFCSPLOWO2_02_FULL_OP11_38_8_rifcsplowo2_02_s...   \n",
       "559  RIFCSPLOWO2_02_FULL_OP11_38_8_rifcsplowo2_02_s...   \n",
       "560  RIFCSPLOWO2_02_FULL_OP11_38_8_rifcsplowo2_02_s...   \n",
       "561  RIFCSPLOWO2_02_FULL_OP11_42_29_rifcsplowo2_02_...   \n",
       "563  RIFCSPLOWO2_12_FULL_OP11_42_10_rifcsplowo2_12_...   \n",
       "602                         cg1_0.2_scaffold_1214_c_11   \n",
       "603                         cg1_0.2_scaffold_1214_c_11   \n",
       "631            CG08_land_8_20_14_0.20_scaffold_10503_6   \n",
       "632             CG08_land_8_20_14_0.20_scaffold_3027_1   \n",
       "633             CG07_land_8_20_14_0.80_scaffold_2964_1   \n",
       "637             CG03_land_8_20_14_0.80_scaffold_3760_5   \n",
       "639                     CG_4_10_14_0.2_scaffold_9248_5   \n",
       "\n",
       "                                                    04  \\\n",
       "334                               gwa2_scaffold_87_168   \n",
       "345                              gwf2_scaffold_2411_19   \n",
       "530  RIFCSPHIGHO2_01_FULL_OP11_42_27_rifcsphigho2_0...   \n",
       "543  RIFCSPHIGHO2_12_FULL_OP11_40_13_rifcsphigho2_1...   \n",
       "548  RIFCSPLOWO2_01_FULL_OP11_42_22_rifcsplowo2_01_...   \n",
       "555  RIFCSPLOWO2_02_FULL_OP11_38_8_rifcsplowo2_02_s...   \n",
       "556  RIFCSPLOWO2_02_FULL_OP11_38_8_rifcsplowo2_02_s...   \n",
       "559  RIFCSPLOWO2_02_FULL_OP11_38_8_rifcsplowo2_02_s...   \n",
       "560  RIFCSPLOWO2_02_FULL_OP11_38_8_rifcsplowo2_02_s...   \n",
       "561  RIFCSPLOWO2_02_FULL_OP11_42_29_rifcsplowo2_02_...   \n",
       "563  RIFCSPLOWO2_12_FULL_OP11_42_10_rifcsplowo2_12_...   \n",
       "602                         cg1_0.2_scaffold_2077_c_19   \n",
       "603                         cg1_0.2_scaffold_2077_c_19   \n",
       "631             CG08_land_8_20_14_0.20_scaffold_3061_8   \n",
       "632             CG08_land_8_20_14_0.20_scaffold_3061_8   \n",
       "633             CG07_land_8_20_14_0.80_scaffold_872_17   \n",
       "637             CG03_land_8_20_14_0.80_scaffold_601_18   \n",
       "639                      CG_4_10_14_0.2_scaffold_789_9   \n",
       "\n",
       "                                                    05  \\\n",
       "334                                gwa2_scaffold_51_27   \n",
       "345                               gwf2_scaffold_174_99   \n",
       "530  RIFCSPHIGHO2_01_FULL_OP11_42_27_rifcsphigho2_0...   \n",
       "543  RIFCSPHIGHO2_12_FULL_OP11_40_13_rifcsphigho2_1...   \n",
       "548  RIFCSPLOWO2_01_FULL_OP11_42_22_rifcsplowo2_01_...   \n",
       "555  RIFCSPLOWO2_02_FULL_OP11_38_8_rifcsplowo2_02_s...   \n",
       "556  RIFCSPLOWO2_02_FULL_OP11_38_8_rifcsplowo2_02_s...   \n",
       "559  RIFCSPLOWO2_02_FULL_OP11_38_8_rifcsplowo2_02_s...   \n",
       "560  RIFCSPLOWO2_02_FULL_OP11_38_8_rifcsplowo2_02_s...   \n",
       "561  RIFCSPLOWO2_02_FULL_OP11_42_29_rifcsplowo2_02_...   \n",
       "563  RIFCSPLOWO2_12_FULL_OP11_42_10_rifcsplowo2_12_...   \n",
       "602                          cg1_0.2_scaffold_1214_c_8   \n",
       "603                          cg1_0.2_scaffold_1214_c_8   \n",
       "631            CG08_land_8_20_14_0.20_scaffold_10503_3   \n",
       "632            CG08_land_8_20_14_0.20_scaffold_10503_3   \n",
       "633            CG07_land_8_20_14_0.80_scaffold_21601_3   \n",
       "637             CG03_land_8_20_14_0.80_scaffold_3760_2   \n",
       "639                     CG_4_10_14_0.2_scaffold_3101_3   \n",
       "\n",
       "                                                    06  \\\n",
       "334                                gwa2_scaffold_51_27   \n",
       "345                                               None   \n",
       "530  RIFCSPHIGHO2_01_FULL_OP11_42_27_rifcsphigho2_0...   \n",
       "543  RIFCSPHIGHO2_12_FULL_OP11_40_13_rifcsphigho2_1...   \n",
       "548  RIFCSPLOWO2_01_FULL_OP11_42_22_rifcsplowo2_01_...   \n",
       "555  RIFCSPLOWO2_02_FULL_OP11_38_8_rifcsplowo2_02_s...   \n",
       "556  RIFCSPLOWO2_02_FULL_OP11_38_8_rifcsplowo2_02_s...   \n",
       "559  RIFCSPLOWO2_02_FULL_OP11_38_8_rifcsplowo2_02_s...   \n",
       "560  RIFCSPLOWO2_02_FULL_OP11_38_8_rifcsplowo2_02_s...   \n",
       "561  RIFCSPLOWO2_02_FULL_OP11_42_29_rifcsplowo2_02_...   \n",
       "563  RIFCSPLOWO2_12_FULL_OP11_42_10_rifcsplowo2_12_...   \n",
       "602                          cg1_0.2_scaffold_1214_c_8   \n",
       "603                          cg1_0.2_scaffold_1214_c_8   \n",
       "631            CG08_land_8_20_14_0.20_scaffold_10503_3   \n",
       "632            CG08_land_8_20_14_0.20_scaffold_10503_3   \n",
       "633            CG07_land_8_20_14_0.80_scaffold_21601_3   \n",
       "637             CG03_land_8_20_14_0.80_scaffold_3760_2   \n",
       "639                     CG_4_10_14_0.2_scaffold_3101_3   \n",
       "\n",
       "                                                    07                    08  \\\n",
       "334                                gwa2_scaffold_711_5                  None   \n",
       "345                               gwf2_scaffold_207_61  gwf2_scaffold_174_97   \n",
       "530  RIFCSPHIGHO2_01_FULL_OP11_42_27_rifcsphigho2_0...                  None   \n",
       "543  RIFCSPHIGHO2_12_FULL_OP11_40_13_rifcsphigho2_1...                  None   \n",
       "548  RIFCSPLOWO2_01_FULL_OP11_42_22_rifcsplowo2_01_...                  None   \n",
       "555  RIFCSPLOWO2_02_FULL_OP11_38_8_rifcsplowo2_02_s...                  None   \n",
       "556  RIFCSPLOWO2_02_FULL_OP11_38_8_rifcsplowo2_02_s...                  None   \n",
       "559  RIFCSPLOWO2_02_FULL_OP11_38_8_rifcsplowo2_02_s...                  None   \n",
       "560  RIFCSPLOWO2_02_FULL_OP11_38_8_rifcsplowo2_02_s...                  None   \n",
       "561  RIFCSPLOWO2_02_FULL_OP11_42_29_rifcsplowo2_02_...                  None   \n",
       "563  RIFCSPLOWO2_12_FULL_OP11_42_10_rifcsplowo2_12_...                  None   \n",
       "602                         cg1_0.2_scaffold_26684_c_6                  None   \n",
       "603                          cg1_0.2_scaffold_3128_c_9                  None   \n",
       "631            CG08_land_8_20_14_0.20_scaffold_15186_6                  None   \n",
       "632            CG08_land_8_20_14_0.20_scaffold_15186_6                  None   \n",
       "633            CG07_land_8_20_14_0.80_scaffold_2382_12                  None   \n",
       "637             CG03_land_8_20_14_0.80_scaffold_1664_5                  None   \n",
       "639                    CG_4_10_14_0.2_scaffold_2018_12                  None   \n",
       "\n",
       "                                                    09  \\\n",
       "334                               gwa2_scaffold_2703_6   \n",
       "345                               gwf2_scaffold_207_58   \n",
       "530  RIFCSPHIGHO2_01_FULL_OP11_42_27_rifcsphigho2_0...   \n",
       "543  RIFCSPHIGHO2_12_FULL_OP11_40_13_rifcsphigho2_1...   \n",
       "548  RIFCSPLOWO2_01_FULL_OP11_42_22_rifcsplowo2_01_...   \n",
       "555  RIFCSPLOWO2_02_FULL_OP11_38_8_rifcsplowo2_02_s...   \n",
       "556  RIFCSPLOWO2_02_FULL_OP11_38_8_rifcsplowo2_02_s...   \n",
       "559  RIFCSPLOWO2_02_FULL_OP11_38_8_rifcsplowo2_02_s...   \n",
       "560  RIFCSPLOWO2_02_FULL_OP11_38_8_rifcsplowo2_02_s...   \n",
       "561  RIFCSPLOWO2_02_FULL_OP11_42_29_rifcsplowo2_02_...   \n",
       "563  RIFCSPLOWO2_12_FULL_OP11_42_10_rifcsplowo2_12_...   \n",
       "602                         cg1_0.2_scaffold_3128_c_11   \n",
       "603                         cg1_0.2_scaffold_3128_c_11   \n",
       "631            CG08_land_8_20_14_0.20_scaffold_15186_4   \n",
       "632            CG08_land_8_20_14_0.20_scaffold_15186_4   \n",
       "633            CG07_land_8_20_14_0.80_scaffold_2382_10   \n",
       "637             CG03_land_8_20_14_0.80_scaffold_1664_7   \n",
       "639                    CG_4_10_14_0.2_scaffold_2018_10   \n",
       "\n",
       "                                                    10  \\\n",
       "334                                gwa2_scaffold_711_4   \n",
       "345                               gwf2_scaffold_207_57   \n",
       "530  RIFCSPHIGHO2_01_FULL_OP11_42_27_rifcsphigho2_0...   \n",
       "543  RIFCSPHIGHO2_12_FULL_OP11_40_13_rifcsphigho2_1...   \n",
       "548  RIFCSPLOWO2_01_FULL_OP11_42_22_rifcsplowo2_01_...   \n",
       "555  RIFCSPLOWO2_02_FULL_OP11_38_8_rifcsplowo2_02_s...   \n",
       "556  RIFCSPLOWO2_02_FULL_OP11_38_8_rifcsplowo2_02_s...   \n",
       "559  RIFCSPLOWO2_02_FULL_OP11_38_8_rifcsplowo2_02_s...   \n",
       "560  RIFCSPLOWO2_02_FULL_OP11_38_8_rifcsplowo2_02_s...   \n",
       "561  RIFCSPLOWO2_02_FULL_OP11_42_29_rifcsplowo2_02_...   \n",
       "563  RIFCSPLOWO2_12_FULL_OP11_42_10_rifcsplowo2_12_...   \n",
       "602                         cg1_0.2_scaffold_3128_c_10   \n",
       "603                         cg1_0.2_scaffold_3128_c_10   \n",
       "631            CG08_land_8_20_14_0.20_scaffold_15186_5   \n",
       "632            CG08_land_8_20_14_0.20_scaffold_15186_5   \n",
       "633            CG07_land_8_20_14_0.80_scaffold_2382_11   \n",
       "637             CG03_land_8_20_14_0.80_scaffold_1664_6   \n",
       "639                    CG_4_10_14_0.2_scaffold_2018_11   \n",
       "\n",
       "                                                    11  \n",
       "334                                gwa2_scaffold_760_5  \n",
       "345                              gwf2_scaffold_1133_21  \n",
       "530  RIFCSPHIGHO2_01_FULL_OP11_42_27_rifcsphigho2_0...  \n",
       "543  RIFCSPHIGHO2_12_FULL_OP11_40_13_rifcsphigho2_1...  \n",
       "548  RIFCSPLOWO2_01_FULL_OP11_42_22_rifcsplowo2_01_...  \n",
       "555  RIFCSPLOWO2_02_FULL_OP11_38_8_rifcsplowo2_02_s...  \n",
       "556  RIFCSPLOWO2_02_FULL_OP11_38_8_rifcsplowo2_02_s...  \n",
       "559  RIFCSPLOWO2_02_FULL_OP11_38_8_rifcsplowo2_02_s...  \n",
       "560  RIFCSPLOWO2_02_FULL_OP11_38_8_rifcsplowo2_02_s...  \n",
       "561  RIFCSPLOWO2_02_FULL_OP11_42_29_rifcsplowo2_02_...  \n",
       "563  RIFCSPLOWO2_12_FULL_OP11_42_10_rifcsplowo2_12_...  \n",
       "602                          cg1_0.2_scaffold_6238_c_4  \n",
       "603                          cg1_0.2_scaffold_6238_c_4  \n",
       "631            CG08_land_8_20_14_0.20_scaffold_40937_4  \n",
       "632            CG08_land_8_20_14_0.20_scaffold_40937_4  \n",
       "633            CG07_land_8_20_14_0.80_scaffold_16911_3  \n",
       "637            CG03_land_8_20_14_0.80_scaffold_12067_2  \n",
       "639                     CG_4_10_14_0.2_scaffold_9886_3  "
      ]
     },
     "execution_count": 80,
     "metadata": {},
     "output_type": "execute_result"
    }
   ],
   "source": [
    "top = base[(base.nscaf < 7) & (base.gene_count >= 10) & (base[\"11\"]!=\"None\")][[\"nscaf\", 'final_tax', \"type\",\"gene_count\", \"bin\",\"gene\"] +cols[11:]]\n",
    "top"
   ]
  },
  {
   "cell_type": "markdown",
   "metadata": {},
   "source": [
    "From here we can pick a few exemplary genomes to model for a figure."
   ]
  },
  {
   "cell_type": "code",
   "execution_count": null,
   "metadata": {},
   "outputs": [],
   "source": [
    "exemplar_genomes = [\"PER_GWF2_39_17\", \"Candidatus Gottesmanbacteria bacterium RIFCSPHIGHO2_12_FULL_40_13\", 'Candidatus Gottesmanbacteria bacterium RIFCSPLOWO2_02_FULL_38_8', \"CG_4_10_14_0_2_um_filter_CG_Gottesman_01_37_9__abawaca.347\"]\n",
    "fig_top = top[top.bin.isin(exemplar_genomes)]\n",
    "\n",
    "# rename genomes for figure\n",
    "def rename(row):\n",
    "    \n",
    "    return row[\"final_tax\"] + \" (type \" + row['type'] + \" RuBisCO)\"\n",
    "\n",
    "fig_top['new_name'] = fig_top.apply(rename, axis=1)"
   ]
  },
  {
   "cell_type": "code",
   "execution_count": 82,
   "metadata": {},
   "outputs": [
    {
     "data": {
      "image/png": "[encoded data removed]",
      "text/plain": [
       "<Figure size 324x90 with 2 Axes>"
      ]
     },
     "metadata": {},
     "output_type": "display_data"
    }
   ],
   "source": [
    "# figure version\n",
    "basef = fig_top.set_index(\"new_name\")\n",
    "\n",
    "# reformat enzyme names\n",
    "enzyme_names = {}\n",
    "for item in orthologies:\n",
    "    enzyme_names[item.split(\"_\")[0]] = item.split(\"_\")[0] #+ \" - \" + \" \".join(item.split(\"_\")[2:])\n",
    "    \n",
    "# now plot\n",
    "basef2 = basef[[\"gene\"] +cols[11:]]\n",
    "basef2.columns = [\"01\"] + [enzyme_names[col] for col in cols[11:]]\n",
    "basef3 = basef2 != \"None\"\n",
    "basef3[\"bin\"] = basef3.index\n",
    "basef4 = basef3.drop_duplicates()\n",
    "basef5 = basef4.drop(\"bin\", axis=1)\n",
    "plt.figure(figsize=(4.5,1.25))\n",
    "sns.heatmap(basef5, annot=False, fmt=\".0f\", linewidths=1, cmap=\"Reds\")\n",
    "plt.xticks(rotation=0, ha=\"center\")\n",
    "plt.ylabel('')\n",
    "plt.savefig(os.path.join(working_directory + \"/images/fig_4.svg\"), format=\"svg\")"
   ]
  },
  {
   "cell_type": "markdown",
   "metadata": {},
   "source": [
    "Looking at the above dataframe, can also see here that enzymes 5 and 6 (FBA/FBPase) are identical for many genomes - see discussion of bifunctional enzyme in Results/Discussion. "
   ]
  },
  {
   "cell_type": "markdown",
   "metadata": {},
   "source": [
    "### exploring genomes with the bifunctional FBA/FBPase"
   ]
  },
  {
   "cell_type": "code",
   "execution_count": 83,
   "metadata": {},
   "outputs": [],
   "source": [
    "# separate out genomes with bifunctional versions and different versions\n",
    "diff = base[(base.final_tax==\"Gottesmanbacteria\") & (base[\"05\"] != base[\"06\"])]\n",
    "same = base[(base.final_tax==\"Gottesmanbacteria\") & (base[\"05\"] == base[\"06\"])]"
   ]
  },
  {
   "cell_type": "code",
   "execution_count": 84,
   "metadata": {},
   "outputs": [
    {
     "name": "stdout",
     "output_type": "stream",
     "text": [
      "37\n"
     ]
    }
   ],
   "source": [
    "# how many bins have the bifunctional copy?\n",
    "print(len(set(same[\"bin\"])))"
   ]
  },
  {
   "cell_type": "code",
   "execution_count": 85,
   "metadata": {},
   "outputs": [
    {
     "name": "stdout",
     "output_type": "stream",
     "text": [
      "13\n"
     ]
    }
   ],
   "source": [
    "# how many bins have different versions?\n",
    "print(len(set(diff[\"bin\"])))"
   ]
  },
  {
   "cell_type": "markdown",
   "metadata": {},
   "source": [
    "Most Gottesmanbacteria appear to encode the bifunctional FBPase/FBA."
   ]
  },
  {
   "cell_type": "code",
   "execution_count": 86,
   "metadata": {},
   "outputs": [
    {
     "name": "stdout",
     "output_type": "stream",
     "text": [
      "['CG_4_10_14_0_2_um_filter_CG_Gottesman_01_37_9__abawaca.347', 'CG_4_8_14_3_um_filter_Gottesmanbacteria_36_8', 'CG22_combo_CG10-13_8_21_14_all_CG_Gottesman_01_36_6__abawaca.154']\n"
     ]
    }
   ],
   "source": [
    "# which possibly have both?\n",
    "both = list(set(diff[\"bin\"]).intersection(set(same[\"bin\"])))\n",
    "print(both)"
   ]
  },
  {
   "cell_type": "code",
   "execution_count": 87,
   "metadata": {},
   "outputs": [
    {
     "data": {
      "text/html": [
       "<div>\n",
       "<style scoped>\n",
       "    .dataframe tbody tr th:only-of-type {\n",
       "        vertical-align: middle;\n",
       "    }\n",
       "\n",
       "    .dataframe tbody tr th {\n",
       "        vertical-align: top;\n",
       "    }\n",
       "\n",
       "    .dataframe thead th {\n",
       "        text-align: right;\n",
       "    }\n",
       "</style>\n",
       "<table border=\"1\" class=\"dataframe\">\n",
       "  <thead>\n",
       "    <tr style=\"text-align: right;\">\n",
       "      <th></th>\n",
       "      <th>bin</th>\n",
       "      <th>05</th>\n",
       "      <th>06</th>\n",
       "    </tr>\n",
       "  </thead>\n",
       "  <tbody>\n",
       "    <tr>\n",
       "      <th>619</th>\n",
       "      <td>CG22_combo_CG10-13_8_21_14_all_CG_Gottesman_01...</td>\n",
       "      <td>CG22_combo_CG10-13_8_21_14_all_scaffold_6433_6</td>\n",
       "      <td>CG22_combo_CG10-13_8_21_14_all_scaffold_6433_6</td>\n",
       "    </tr>\n",
       "    <tr>\n",
       "      <th>620</th>\n",
       "      <td>CG22_combo_CG10-13_8_21_14_all_CG_Gottesman_01...</td>\n",
       "      <td>CG22_combo_CG10-13_8_21_14_all_scaffold_6433_6</td>\n",
       "      <td>CG22_combo_CG10-13_8_21_14_all_scaffold_6433_7</td>\n",
       "    </tr>\n",
       "    <tr>\n",
       "      <th>621</th>\n",
       "      <td>CG22_combo_CG10-13_8_21_14_all_CG_Gottesman_01...</td>\n",
       "      <td>CG22_combo_CG10-13_8_21_14_all_scaffold_6433_7</td>\n",
       "      <td>CG22_combo_CG10-13_8_21_14_all_scaffold_6433_6</td>\n",
       "    </tr>\n",
       "    <tr>\n",
       "      <th>622</th>\n",
       "      <td>CG22_combo_CG10-13_8_21_14_all_CG_Gottesman_01...</td>\n",
       "      <td>CG22_combo_CG10-13_8_21_14_all_scaffold_6433_7</td>\n",
       "      <td>CG22_combo_CG10-13_8_21_14_all_scaffold_6433_7</td>\n",
       "    </tr>\n",
       "    <tr>\n",
       "      <th>623</th>\n",
       "      <td>CG22_combo_CG10-13_8_21_14_all_CG_Gottesman_01...</td>\n",
       "      <td>CG22_combo_CG10-13_8_21_14_all_scaffold_11415_1</td>\n",
       "      <td>CG22_combo_CG10-13_8_21_14_all_scaffold_6433_6</td>\n",
       "    </tr>\n",
       "    <tr>\n",
       "      <th>624</th>\n",
       "      <td>CG22_combo_CG10-13_8_21_14_all_CG_Gottesman_01...</td>\n",
       "      <td>CG22_combo_CG10-13_8_21_14_all_scaffold_11415_1</td>\n",
       "      <td>CG22_combo_CG10-13_8_21_14_all_scaffold_6433_7</td>\n",
       "    </tr>\n",
       "    <tr>\n",
       "      <th>639</th>\n",
       "      <td>CG_4_10_14_0_2_um_filter_CG_Gottesman_01_37_9_...</td>\n",
       "      <td>CG_4_10_14_0.2_scaffold_3101_3</td>\n",
       "      <td>CG_4_10_14_0.2_scaffold_3101_3</td>\n",
       "    </tr>\n",
       "    <tr>\n",
       "      <th>641</th>\n",
       "      <td>CG_4_10_14_0_2_um_filter_CG_Gottesman_01_37_9_...</td>\n",
       "      <td>CG_4_10_14_0.2_scaffold_13977_1</td>\n",
       "      <td>CG_4_10_14_0.2_scaffold_3101_3</td>\n",
       "    </tr>\n",
       "    <tr>\n",
       "      <th>643</th>\n",
       "      <td>CG_4_8_14_3_um_filter_Gottesmanbacteria_36_8</td>\n",
       "      <td>Crystal_Geyser_4_8_14_3_um_filter_scaffold_5517_5</td>\n",
       "      <td>Crystal_Geyser_4_8_14_3_um_filter_scaffold_5517_5</td>\n",
       "    </tr>\n",
       "    <tr>\n",
       "      <th>646</th>\n",
       "      <td>CG_4_8_14_3_um_filter_Gottesmanbacteria_36_8</td>\n",
       "      <td>Crystal_Geyser_4_8_14_3_um_filter_scaffold_5517_5</td>\n",
       "      <td>Crystal_Geyser_4_8_14_3_um_filter_scaffold_826...</td>\n",
       "    </tr>\n",
       "  </tbody>\n",
       "</table>\n",
       "</div>"
      ],
      "text/plain": [
       "                                                   bin  \\\n",
       "619  CG22_combo_CG10-13_8_21_14_all_CG_Gottesman_01...   \n",
       "620  CG22_combo_CG10-13_8_21_14_all_CG_Gottesman_01...   \n",
       "621  CG22_combo_CG10-13_8_21_14_all_CG_Gottesman_01...   \n",
       "622  CG22_combo_CG10-13_8_21_14_all_CG_Gottesman_01...   \n",
       "623  CG22_combo_CG10-13_8_21_14_all_CG_Gottesman_01...   \n",
       "624  CG22_combo_CG10-13_8_21_14_all_CG_Gottesman_01...   \n",
       "639  CG_4_10_14_0_2_um_filter_CG_Gottesman_01_37_9_...   \n",
       "641  CG_4_10_14_0_2_um_filter_CG_Gottesman_01_37_9_...   \n",
       "643       CG_4_8_14_3_um_filter_Gottesmanbacteria_36_8   \n",
       "646       CG_4_8_14_3_um_filter_Gottesmanbacteria_36_8   \n",
       "\n",
       "                                                    05  \\\n",
       "619     CG22_combo_CG10-13_8_21_14_all_scaffold_6433_6   \n",
       "620     CG22_combo_CG10-13_8_21_14_all_scaffold_6433_6   \n",
       "621     CG22_combo_CG10-13_8_21_14_all_scaffold_6433_7   \n",
       "622     CG22_combo_CG10-13_8_21_14_all_scaffold_6433_7   \n",
       "623    CG22_combo_CG10-13_8_21_14_all_scaffold_11415_1   \n",
       "624    CG22_combo_CG10-13_8_21_14_all_scaffold_11415_1   \n",
       "639                     CG_4_10_14_0.2_scaffold_3101_3   \n",
       "641                    CG_4_10_14_0.2_scaffold_13977_1   \n",
       "643  Crystal_Geyser_4_8_14_3_um_filter_scaffold_5517_5   \n",
       "646  Crystal_Geyser_4_8_14_3_um_filter_scaffold_5517_5   \n",
       "\n",
       "                                                    06  \n",
       "619     CG22_combo_CG10-13_8_21_14_all_scaffold_6433_6  \n",
       "620     CG22_combo_CG10-13_8_21_14_all_scaffold_6433_7  \n",
       "621     CG22_combo_CG10-13_8_21_14_all_scaffold_6433_6  \n",
       "622     CG22_combo_CG10-13_8_21_14_all_scaffold_6433_7  \n",
       "623     CG22_combo_CG10-13_8_21_14_all_scaffold_6433_6  \n",
       "624     CG22_combo_CG10-13_8_21_14_all_scaffold_6433_7  \n",
       "639                     CG_4_10_14_0.2_scaffold_3101_3  \n",
       "641                     CG_4_10_14_0.2_scaffold_3101_3  \n",
       "643  Crystal_Geyser_4_8_14_3_um_filter_scaffold_5517_5  \n",
       "646  Crystal_Geyser_4_8_14_3_um_filter_scaffold_826...  "
      ]
     },
     "execution_count": 87,
     "metadata": {},
     "output_type": "execute_result"
    }
   ],
   "source": [
    "# three genomes with bifunctional\n",
    "base[base.bin.isin(both)][[\"bin\",\"05\",\"06\"]].drop_duplicates()"
   ]
  },
  {
   "cell_type": "markdown",
   "metadata": {},
   "source": [
    "These three genomes encode the bi-functional enzyme but also separate FBA or FBPase."
   ]
  },
  {
   "cell_type": "code",
   "execution_count": 88,
   "metadata": {},
   "outputs": [
    {
     "data": {
      "text/plain": [
       "III-like    19\n",
       "III-c       18\n",
       "II/III       1\n",
       "Name: type, dtype: int64"
      ]
     },
     "execution_count": 88,
     "metadata": {},
     "output_type": "execute_result"
    }
   ],
   "source": [
    "# those with same, what rubisco types?\n",
    "same[[\"bin\",\"type\"]].drop_duplicates()[\"type\"].value_counts()"
   ]
  },
  {
   "cell_type": "markdown",
   "metadata": {},
   "source": [
    "### PRK"
   ]
  },
  {
   "cell_type": "code",
   "execution_count": 89,
   "metadata": {},
   "outputs": [
    {
     "data": {
      "text/plain": [
       "31"
      ]
     },
     "execution_count": 89,
     "metadata": {},
     "output_type": "execute_result"
    }
   ],
   "source": [
    "#number of genomes with PRK\n",
    "len(set(base[base[\"11\"]!=\"None\"][\"bin\"]))"
   ]
  },
  {
   "cell_type": "code",
   "execution_count": 90,
   "metadata": {},
   "outputs": [
    {
     "data": {
      "text/plain": [
       "type      final_tax        \n",
       "II/III    Gottesmanbacteria     1\n",
       "          Peregrinibacteria     2\n",
       "III-c     Gottesmanbacteria    11\n",
       "          Parcubacteria         1\n",
       "III-like  Gottesmanbacteria    16\n",
       "          Microgenomates        1\n",
       "dtype: int64"
      ]
     },
     "execution_count": 90,
     "metadata": {},
     "output_type": "execute_result"
    }
   ],
   "source": [
    "# get rid of duplicate bins\n",
    "test = base[[\"bin\", \"type\", \"final_tax\", \"11\"]].drop_duplicates()\n",
    "test[test[\"11\"] != \"None\"].groupby([\"type\", \"final_tax\"]).size()"
   ]
  },
  {
   "cell_type": "markdown",
   "metadata": {},
   "source": [
    "Most of our genomes that have both RuBisCO and a \"true\" PRK are Microgenomates with a Form III-like or Form III-c. This is an interesting linkage. N.B. One Gottesmanbacteria genome has two RuBisCO genes, thus the sum above. "
   ]
  }
 ],
 "metadata": {
  "kernelspec": {
   "display_name": "Python 3 - ajaffe",
   "language": "python",
   "name": "python3"
  },
  "language_info": {
   "codemirror_mode": {
    "name": "ipython",
    "version": 3
   },
   "file_extension": ".py",
   "mimetype": "text/x-python",
   "name": "python",
   "nbconvert_exporter": "python",
   "pygments_lexer": "ipython3",
   "version": "3.6.5"
  }
 },
 "nbformat": 4,
 "nbformat_minor": 1
}
